{
  "nbformat": 4,
  "nbformat_minor": 0,
  "metadata": {
    "colab": {
      "name": "Week 3 -2 -Implementing Transfer Learning and Dropout for Cat Vs Dog ",
      "provenance": []
    },
    "kernelspec": {
      "name": "python3",
      "display_name": "Python 3"
    },
    "language_info": {
      "name": "python"
    },
    "accelerator": "GPU"
  },
  "cells": [
    {
      "cell_type": "markdown",
      "metadata": {
        "id": "Ofnae1vbX83k"
      },
      "source": [
        "TASK : CLassify cats and dogs using transfer learning, performace being enhanced with Image Augmentation and dropouts for this CNN"
      ]
    },
    {
      "cell_type": "markdown",
      "metadata": {
        "id": "Uc1DwS1pYkDR"
      },
      "source": [
        "The first cell downloads the weights for a pre-trained inception network, and then instantiates a new instance of it using those weights. We will pull one of the convolutional layers as our input layer, and then take its output. We call this last output. "
      ]
    },
    {
      "cell_type": "code",
      "metadata": {
        "colab": {
          "base_uri": "https://localhost:8080/"
        },
        "id": "-Eb7Ic9SVAtj",
        "outputId": "ee0d2a52-bb20-4328-cfec-41c18bd153b6"
      },
      "source": [
        "import os\n",
        "\n",
        "from tensorflow.keras import layers\n",
        "from tensorflow.keras import Model\n",
        "!wget --no-check-certificate \\\n",
        "    https://storage.googleapis.com/mledu-datasets/inception_v3_weights_tf_dim_ordering_tf_kernels_notop.h5 \\\n",
        "    -O /tmp/inception_v3_weights_tf_dim_ordering_tf_kernels_notop.h5\n",
        "  \n",
        "\n",
        "\n",
        "from tensorflow.keras.applications.inception_v3 import InceptionV3\n",
        "\n",
        "local_weights_file = '/tmp/inception_v3_weights_tf_dim_ordering_tf_kernels_notop.h5'\n",
        "\n",
        "pre_trained_model = InceptionV3(input_shape = (150, 150, 3), \n",
        "                                include_top = False, \n",
        "                                weights = None)\n",
        "\n",
        "pre_trained_model.load_weights(local_weights_file)\n",
        "\n",
        "for layer in pre_trained_model.layers:\n",
        "  layer.trainable = False\n",
        "  \n",
        "# pre_trained_model.summary()\n",
        "\n",
        "#Fun experimentation for mixed 7 layer\n",
        "last_layer = pre_trained_model.get_layer('mixed7')\n",
        "print('last layer output shape: ', last_layer.output_shape)\n",
        "last_output = last_layer.output"
      ],
      "execution_count": 2,
      "outputs": [
        {
          "output_type": "stream",
          "text": [
            "--2021-07-24 16:25:39--  https://storage.googleapis.com/mledu-datasets/inception_v3_weights_tf_dim_ordering_tf_kernels_notop.h5\n",
            "Resolving storage.googleapis.com (storage.googleapis.com)... 74.125.142.128, 74.125.195.128, 74.125.199.128, ...\n",
            "Connecting to storage.googleapis.com (storage.googleapis.com)|74.125.142.128|:443... connected.\n",
            "HTTP request sent, awaiting response... 200 OK\n",
            "Length: 87910968 (84M) [application/x-hdf]\n",
            "Saving to: ‘/tmp/inception_v3_weights_tf_dim_ordering_tf_kernels_notop.h5’\n",
            "\n",
            "/tmp/inception_v3_w 100%[===================>]  83.84M   118MB/s    in 0.7s    \n",
            "\n",
            "2021-07-24 16:25:40 (118 MB/s) - ‘/tmp/inception_v3_weights_tf_dim_ordering_tf_kernels_notop.h5’ saved [87910968/87910968]\n",
            "\n",
            "last layer output shape:  (None, 7, 7, 768)\n"
          ],
          "name": "stdout"
        }
      ]
    },
    {
      "cell_type": "markdown",
      "metadata": {
        "id": "Th40a1LmYCIN"
      },
      "source": [
        "Now, we'll set up our model taking the last output as the input to it. That'll be flattened, and then there'll be a dense layer, a dropout, and an output layer."
      ]
    },
    {
      "cell_type": "code",
      "metadata": {
        "colab": {
          "base_uri": "https://localhost:8080/"
        },
        "id": "VBO1GGQqVUs6",
        "outputId": "004787d0-644a-45af-8562-d974d3aa816a"
      },
      "source": [
        "from tensorflow.keras.optimizers import RMSprop\n",
        "\n",
        "# Flatten the output layer to 1 dimension\n",
        "x = layers.Flatten()(last_output)\n",
        "\n",
        "# Add a fully connected layer with 1,024 hidden units and ReLU activation\n",
        "x = layers.Dense(1024, activation='relu')(x)\n",
        "\n",
        "# Add a dropout rate of 0.2\n",
        "x = layers.Dropout(0.2)(x)               \n",
        "\n",
        "# Add a final sigmoid layer for classification\n",
        "x = layers.Dense  (1, activation='sigmoid')(x)           \n",
        "\n",
        "model = Model( pre_trained_model.input, x) \n",
        "model.compile(optimizer = RMSprop(lr=0.0001), \n",
        "              loss = 'binary_crossentropy', \n",
        "              metrics = ['accuracy'])\n"
      ],
      "execution_count": 3,
      "outputs": [
        {
          "output_type": "stream",
          "text": [
            "/usr/local/lib/python3.7/dist-packages/tensorflow/python/keras/optimizer_v2/optimizer_v2.py:375: UserWarning: The `lr` argument is deprecated, use `learning_rate` instead.\n",
            "  \"The `lr` argument is deprecated, use `learning_rate` instead.\")\n"
          ],
          "name": "stderr"
        }
      ]
    },
    {
      "cell_type": "markdown",
      "metadata": {
        "id": "Qz-RVrUjYISS"
      },
      "source": [
        "The next cell will download the abbreviated version of cats versus dogs, unzip it into training and validation directories, and then set up the image generators. The training one will use augmentation as we've explored before."
      ]
    },
    {
      "cell_type": "code",
      "metadata": {
        "colab": {
          "base_uri": "https://localhost:8080/"
        },
        "id": "KTGP96RIVVyr",
        "outputId": "88785da1-f60e-403b-fda0-167d455a4478"
      },
      "source": [
        "!wget --no-check-certificate \\\n",
        "        https://storage.googleapis.com/mledu-datasets/cats_and_dogs_filtered.zip \\\n",
        "       -O /tmp/cats_and_dogs_filtered.zip\n",
        "\n",
        "from tensorflow.keras.preprocessing.image import ImageDataGenerator\n",
        "import os\n",
        "import zipfile\n",
        "\n",
        "local_zip = '//tmp/cats_and_dogs_filtered.zip'\n",
        "zip_ref = zipfile.ZipFile(local_zip, 'r')\n",
        "zip_ref.extractall('/tmp')\n",
        "zip_ref.close()\n",
        "\n",
        "# Define our example directories and files\n",
        "base_dir = '/tmp/cats_and_dogs_filtered'\n",
        "\n",
        "train_dir = os.path.join( base_dir, 'train')\n",
        "validation_dir = os.path.join( base_dir, 'validation')\n",
        "\n",
        "\n",
        "train_cats_dir = os.path.join(train_dir, 'cats') # Directory with our training cat pictures\n",
        "train_dogs_dir = os.path.join(train_dir, 'dogs') # Directory with our training dog pictures\n",
        "validation_cats_dir = os.path.join(validation_dir, 'cats') # Directory with our validation cat pictures\n",
        "validation_dogs_dir = os.path.join(validation_dir, 'dogs')# Directory with our validation dog pictures\n",
        "\n",
        "train_cat_fnames = os.listdir(train_cats_dir)\n",
        "train_dog_fnames = os.listdir(train_dogs_dir)\n",
        "\n",
        "# Add our data-augmentation parameters to ImageDataGenerator\n",
        "train_datagen = ImageDataGenerator(rescale = 1./255.,\n",
        "                                   rotation_range = 40,\n",
        "                                   width_shift_range = 0.2,\n",
        "                                   height_shift_range = 0.2,\n",
        "                                   shear_range = 0.2,\n",
        "                                   zoom_range = 0.2,\n",
        "                                   horizontal_flip = True)\n",
        "\n",
        "# Note that the validation data should not be augmented!\n",
        "test_datagen = ImageDataGenerator( rescale = 1.0/255. )\n",
        "\n",
        "# Flow training images in batches of 20 using train_datagen generator\n",
        "train_generator = train_datagen.flow_from_directory(train_dir,\n",
        "                                                    batch_size = 20,\n",
        "                                                    class_mode = 'binary', \n",
        "                                                    target_size = (150, 150))     \n",
        "\n",
        "# Flow validation images in batches of 20 using test_datagen generator\n",
        "validation_generator =  test_datagen.flow_from_directory( validation_dir,\n",
        "                                                          batch_size  = 20,\n",
        "                                                          class_mode  = 'binary', \n",
        "                                                          target_size = (150, 150))"
      ],
      "execution_count": 4,
      "outputs": [
        {
          "output_type": "stream",
          "text": [
            "--2021-07-24 16:25:48--  https://storage.googleapis.com/mledu-datasets/cats_and_dogs_filtered.zip\n",
            "Resolving storage.googleapis.com (storage.googleapis.com)... 108.177.98.128, 74.125.142.128, 74.125.195.128, ...\n",
            "Connecting to storage.googleapis.com (storage.googleapis.com)|108.177.98.128|:443... connected.\n",
            "HTTP request sent, awaiting response... 200 OK\n",
            "Length: 68606236 (65M) [application/zip]\n",
            "Saving to: ‘/tmp/cats_and_dogs_filtered.zip’\n",
            "\n",
            "/tmp/cats_and_dogs_ 100%[===================>]  65.43M   276MB/s    in 0.2s    \n",
            "\n",
            "2021-07-24 16:25:49 (276 MB/s) - ‘/tmp/cats_and_dogs_filtered.zip’ saved [68606236/68606236]\n",
            "\n",
            "Found 2000 images belonging to 2 classes.\n",
            "Found 1000 images belonging to 2 classes.\n"
          ],
          "name": "stdout"
        }
      ]
    },
    {
      "cell_type": "markdown",
      "metadata": {
        "id": "KxteHYGQYOaY"
      },
      "source": [
        "We can then see that the images are being loaded and segregated into classes correctly, 2,000 for training, 1,000 for validation. We'll now start the training. I'm only going to do 20 epochs. "
      ]
    },
    {
      "cell_type": "code",
      "metadata": {
        "colab": {
          "base_uri": "https://localhost:8080/"
        },
        "id": "rlKzCwbnVYJM",
        "outputId": "93d7b2b2-b2b2-4fe4-8a99-b95a8bf67ec1"
      },
      "source": [
        "history = model.fit(\n",
        "            train_generator,\n",
        "            validation_data = validation_generator,\n",
        "            steps_per_epoch = 100,\n",
        "            epochs = 20,\n",
        "            validation_steps = 50,\n",
        "            verbose = 2)"
      ],
      "execution_count": 5,
      "outputs": [
        {
          "output_type": "stream",
          "text": [
            "Epoch 1/20\n",
            "100/100 - 51s - loss: 0.3519 - accuracy: 0.8605 - val_loss: 0.1203 - val_accuracy: 0.9490\n",
            "Epoch 2/20\n",
            "100/100 - 19s - loss: 0.2254 - accuracy: 0.9075 - val_loss: 0.1000 - val_accuracy: 0.9620\n",
            "Epoch 3/20\n",
            "100/100 - 17s - loss: 0.1823 - accuracy: 0.9270 - val_loss: 0.1292 - val_accuracy: 0.9570\n",
            "Epoch 4/20\n",
            "100/100 - 17s - loss: 0.1897 - accuracy: 0.9325 - val_loss: 0.0969 - val_accuracy: 0.9680\n",
            "Epoch 5/20\n",
            "100/100 - 18s - loss: 0.1709 - accuracy: 0.9435 - val_loss: 0.1209 - val_accuracy: 0.9580\n",
            "Epoch 6/20\n",
            "100/100 - 18s - loss: 0.1870 - accuracy: 0.9355 - val_loss: 0.1164 - val_accuracy: 0.9580\n",
            "Epoch 7/20\n",
            "100/100 - 17s - loss: 0.1729 - accuracy: 0.9405 - val_loss: 0.0984 - val_accuracy: 0.9630\n",
            "Epoch 8/20\n",
            "100/100 - 17s - loss: 0.1697 - accuracy: 0.9405 - val_loss: 0.0934 - val_accuracy: 0.9690\n",
            "Epoch 9/20\n",
            "100/100 - 18s - loss: 0.1655 - accuracy: 0.9425 - val_loss: 0.1222 - val_accuracy: 0.9660\n",
            "Epoch 10/20\n",
            "100/100 - 18s - loss: 0.1763 - accuracy: 0.9415 - val_loss: 0.1347 - val_accuracy: 0.9610\n",
            "Epoch 11/20\n",
            "100/100 - 17s - loss: 0.1538 - accuracy: 0.9460 - val_loss: 0.1218 - val_accuracy: 0.9650\n",
            "Epoch 12/20\n",
            "100/100 - 17s - loss: 0.1837 - accuracy: 0.9400 - val_loss: 0.1071 - val_accuracy: 0.9710\n",
            "Epoch 13/20\n",
            "100/100 - 18s - loss: 0.1452 - accuracy: 0.9500 - val_loss: 0.1217 - val_accuracy: 0.9680\n",
            "Epoch 14/20\n",
            "100/100 - 18s - loss: 0.1499 - accuracy: 0.9555 - val_loss: 0.1099 - val_accuracy: 0.9680\n",
            "Epoch 15/20\n",
            "100/100 - 18s - loss: 0.1431 - accuracy: 0.9445 - val_loss: 0.1546 - val_accuracy: 0.9530\n",
            "Epoch 16/20\n",
            "100/100 - 17s - loss: 0.1428 - accuracy: 0.9540 - val_loss: 0.1995 - val_accuracy: 0.9470\n",
            "Epoch 17/20\n",
            "100/100 - 17s - loss: 0.1146 - accuracy: 0.9565 - val_loss: 0.1174 - val_accuracy: 0.9670\n",
            "Epoch 18/20\n",
            "100/100 - 18s - loss: 0.1543 - accuracy: 0.9555 - val_loss: 0.1221 - val_accuracy: 0.9630\n",
            "Epoch 19/20\n",
            "100/100 - 18s - loss: 0.1283 - accuracy: 0.9565 - val_loss: 0.1280 - val_accuracy: 0.9630\n",
            "Epoch 20/20\n",
            "100/100 - 17s - loss: 0.1230 - accuracy: 0.9580 - val_loss: 0.1071 - val_accuracy: 0.9730\n"
          ],
          "name": "stdout"
        }
      ]
    },
    {
      "cell_type": "code",
      "metadata": {
        "colab": {
          "base_uri": "https://localhost:8080/",
          "height": 298
        },
        "id": "u7eoLbi2VdgA",
        "outputId": "20c7cf55-3ab2-448e-d233-327e8790f303"
      },
      "source": [
        "import matplotlib.pyplot as plt\n",
        "acc = history.history['accuracy']\n",
        "val_acc = history.history['val_accuracy']\n",
        "loss = history.history['loss']\n",
        "val_loss = history.history['val_loss']\n",
        "\n",
        "epochs = range(len(acc))\n",
        "\n",
        "plt.plot(epochs, acc, 'r', label='Training accuracy')\n",
        "plt.plot(epochs, val_acc, 'b', label='Validation accuracy')\n",
        "plt.title('Training and validation accuracy')\n",
        "plt.legend(loc=0)\n",
        "plt.figure()\n",
        "\n",
        "\n",
        "plt.show()"
      ],
      "execution_count": 6,
      "outputs": [
        {
          "output_type": "display_data",
          "data": {
            "image/png": "[encoded data removed]",
            "text/plain": [
              "<Figure size 432x288 with 1 Axes>"
            ]
          },
          "metadata": {
            "tags": [],
            "needs_background": "light"
          }
        },
        {
          "output_type": "display_data",
          "data": {
            "text/plain": [
              "<Figure size 432x288 with 0 Axes>"
            ]
          },
          "metadata": {
            "tags": []
          }
        }
      ]
    }
  ]
}