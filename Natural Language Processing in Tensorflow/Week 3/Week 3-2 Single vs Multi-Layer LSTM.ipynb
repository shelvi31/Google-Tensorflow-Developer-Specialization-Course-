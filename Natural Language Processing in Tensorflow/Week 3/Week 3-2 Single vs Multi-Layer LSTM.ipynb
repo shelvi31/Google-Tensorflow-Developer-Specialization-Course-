{
  "nbformat": 4,
  "nbformat_minor": 0,
  "metadata": {
    "colab": {
      "name": "Week 3-2 Single vs Multi-Layer LSTM",
      "provenance": []
    },
    "kernelspec": {
      "name": "python3",
      "display_name": "Python 3"
    },
    "language_info": {
      "name": "python"
    },
    "accelerator": "GPU",
    "widgets": {
      "application/vnd.jupyter.widget-state+json": {
        "928aad7376cd4ef1867e945c975e5ec2": {
          "model_module": "@jupyter-widgets/controls",
          "model_name": "HBoxModel",
          "state": {
            "_view_name": "HBoxView",
            "_dom_classes": [],
            "_model_name": "HBoxModel",
            "_view_module": "@jupyter-widgets/controls",
            "_model_module_version": "1.5.0",
            "_view_count": null,
            "_view_module_version": "1.5.0",
            "box_style": "",
            "layout": "IPY_MODEL_b5d6691253bb4a4cbb0e48f3c234c2dc",
            "_model_module": "@jupyter-widgets/controls",
            "children": [
              "IPY_MODEL_a47a1cdab9874154b6bfe2f4a800b993",
              "IPY_MODEL_5f015fd8f4bf49a997b9216728d2f765"
            ]
          }
        },
        "b5d6691253bb4a4cbb0e48f3c234c2dc": {
          "model_module": "@jupyter-widgets/base",
          "model_name": "LayoutModel",
          "state": {
            "_view_name": "LayoutView",
            "grid_template_rows": null,
            "right": null,
            "justify_content": null,
            "_view_module": "@jupyter-widgets/base",
            "overflow": null,
            "_model_module_version": "1.2.0",
            "_view_count": null,
            "flex_flow": null,
            "width": null,
            "min_width": null,
            "border": null,
            "align_items": null,
            "bottom": null,
            "_model_module": "@jupyter-widgets/base",
            "top": null,
            "grid_column": null,
            "overflow_y": null,
            "overflow_x": null,
            "grid_auto_flow": null,
            "grid_area": null,
            "grid_template_columns": null,
            "flex": null,
            "_model_name": "LayoutModel",
            "justify_items": null,
            "grid_row": null,
            "max_height": null,
            "align_content": null,
            "visibility": null,
            "align_self": null,
            "height": null,
            "min_height": null,
            "padding": null,
            "grid_auto_rows": null,
            "grid_gap": null,
            "max_width": null,
            "order": null,
            "_view_module_version": "1.2.0",
            "grid_template_areas": null,
            "object_position": null,
            "object_fit": null,
            "grid_auto_columns": null,
            "margin": null,
            "display": null,
            "left": null
          }
        },
        "a47a1cdab9874154b6bfe2f4a800b993": {
          "model_module": "@jupyter-widgets/controls",
          "model_name": "FloatProgressModel",
          "state": {
            "_view_name": "ProgressView",
            "style": "IPY_MODEL_43a1e883f741464f8f6b016d5adaf526",
            "_dom_classes": [],
            "description": "Dl Completed...: 100%",
            "_model_name": "FloatProgressModel",
            "bar_style": "success",
            "max": 1,
            "_view_module": "@jupyter-widgets/controls",
            "_model_module_version": "1.5.0",
            "value": 1,
            "_view_count": null,
            "_view_module_version": "1.5.0",
            "orientation": "horizontal",
            "min": 0,
            "description_tooltip": null,
            "_model_module": "@jupyter-widgets/controls",
            "layout": "IPY_MODEL_b4659d0f784043348096c59828c0e2ac"
          }
        },
        "5f015fd8f4bf49a997b9216728d2f765": {
          "model_module": "@jupyter-widgets/controls",
          "model_name": "HTMLModel",
          "state": {
            "_view_name": "HTMLView",
            "style": "IPY_MODEL_9c8fd03a23f64e2dab9430342b26e2d7",
            "_dom_classes": [],
            "description": "",
            "_model_name": "HTMLModel",
            "placeholder": "​",
            "_view_module": "@jupyter-widgets/controls",
            "_model_module_version": "1.5.0",
            "value": " 1/1 [00:01&lt;00:00,  1.63s/ url]",
            "_view_count": null,
            "_view_module_version": "1.5.0",
            "description_tooltip": null,
            "_model_module": "@jupyter-widgets/controls",
            "layout": "IPY_MODEL_5d0e2831fb9446ddb8a1635605ef904b"
          }
        },
        "43a1e883f741464f8f6b016d5adaf526": {
          "model_module": "@jupyter-widgets/controls",
          "model_name": "ProgressStyleModel",
          "state": {
            "_view_name": "StyleView",
            "_model_name": "ProgressStyleModel",
            "description_width": "initial",
            "_view_module": "@jupyter-widgets/base",
            "_model_module_version": "1.5.0",
            "_view_count": null,
            "_view_module_version": "1.2.0",
            "bar_color": null,
            "_model_module": "@jupyter-widgets/controls"
          }
        },
        "b4659d0f784043348096c59828c0e2ac": {
          "model_module": "@jupyter-widgets/base",
          "model_name": "LayoutModel",
          "state": {
            "_view_name": "LayoutView",
            "grid_template_rows": null,
            "right": null,
            "justify_content": null,
            "_view_module": "@jupyter-widgets/base",
            "overflow": null,
            "_model_module_version": "1.2.0",
            "_view_count": null,
            "flex_flow": null,
            "width": null,
            "min_width": null,
            "border": null,
            "align_items": null,
            "bottom": null,
            "_model_module": "@jupyter-widgets/base",
            "top": null,
            "grid_column": null,
            "overflow_y": null,
            "overflow_x": null,
            "grid_auto_flow": null,
            "grid_area": null,
            "grid_template_columns": null,
            "flex": null,
            "_model_name": "LayoutModel",
            "justify_items": null,
            "grid_row": null,
            "max_height": null,
            "align_content": null,
            "visibility": null,
            "align_self": null,
            "height": null,
            "min_height": null,
            "padding": null,
            "grid_auto_rows": null,
            "grid_gap": null,
            "max_width": null,
            "order": null,
            "_view_module_version": "1.2.0",
            "grid_template_areas": null,
            "object_position": null,
            "object_fit": null,
            "grid_auto_columns": null,
            "margin": null,
            "display": null,
            "left": null
          }
        },
        "9c8fd03a23f64e2dab9430342b26e2d7": {
          "model_module": "@jupyter-widgets/controls",
          "model_name": "DescriptionStyleModel",
          "state": {
            "_view_name": "StyleView",
            "_model_name": "DescriptionStyleModel",
            "description_width": "",
            "_view_module": "@jupyter-widgets/base",
            "_model_module_version": "1.5.0",
            "_view_count": null,
            "_view_module_version": "1.2.0",
            "_model_module": "@jupyter-widgets/controls"
          }
        },
        "5d0e2831fb9446ddb8a1635605ef904b": {
          "model_module": "@jupyter-widgets/base",
          "model_name": "LayoutModel",
          "state": {
            "_view_name": "LayoutView",
            "grid_template_rows": null,
            "right": null,
            "justify_content": null,
            "_view_module": "@jupyter-widgets/base",
            "overflow": null,
            "_model_module_version": "1.2.0",
            "_view_count": null,
            "flex_flow": null,
            "width": null,
            "min_width": null,
            "border": null,
            "align_items": null,
            "bottom": null,
            "_model_module": "@jupyter-widgets/base",
            "top": null,
            "grid_column": null,
            "overflow_y": null,
            "overflow_x": null,
            "grid_auto_flow": null,
            "grid_area": null,
            "grid_template_columns": null,
            "flex": null,
            "_model_name": "LayoutModel",
            "justify_items": null,
            "grid_row": null,
            "max_height": null,
            "align_content": null,
            "visibility": null,
            "align_self": null,
            "height": null,
            "min_height": null,
            "padding": null,
            "grid_auto_rows": null,
            "grid_gap": null,
            "max_width": null,
            "order": null,
            "_view_module_version": "1.2.0",
            "grid_template_areas": null,
            "object_position": null,
            "object_fit": null,
            "grid_auto_columns": null,
            "margin": null,
            "display": null,
            "left": null
          }
        },
        "8eaba0ce101c43a5825fff54e4a0410d": {
          "model_module": "@jupyter-widgets/controls",
          "model_name": "HBoxModel",
          "state": {
            "_view_name": "HBoxView",
            "_dom_classes": [],
            "_model_name": "HBoxModel",
            "_view_module": "@jupyter-widgets/controls",
            "_model_module_version": "1.5.0",
            "_view_count": null,
            "_view_module_version": "1.5.0",
            "box_style": "",
            "layout": "IPY_MODEL_4d7245a31da74e74a0ed3e1b0981d857",
            "_model_module": "@jupyter-widgets/controls",
            "children": [
              "IPY_MODEL_0dadb78c94b04f4bb0e7bb1665706a08",
              "IPY_MODEL_4c0082656756430da7159f596b33965d"
            ]
          }
        },
        "4d7245a31da74e74a0ed3e1b0981d857": {
          "model_module": "@jupyter-widgets/base",
          "model_name": "LayoutModel",
          "state": {
            "_view_name": "LayoutView",
            "grid_template_rows": null,
            "right": null,
            "justify_content": null,
            "_view_module": "@jupyter-widgets/base",
            "overflow": null,
            "_model_module_version": "1.2.0",
            "_view_count": null,
            "flex_flow": null,
            "width": null,
            "min_width": null,
            "border": null,
            "align_items": null,
            "bottom": null,
            "_model_module": "@jupyter-widgets/base",
            "top": null,
            "grid_column": null,
            "overflow_y": null,
            "overflow_x": null,
            "grid_auto_flow": null,
            "grid_area": null,
            "grid_template_columns": null,
            "flex": null,
            "_model_name": "LayoutModel",
            "justify_items": null,
            "grid_row": null,
            "max_height": null,
            "align_content": null,
            "visibility": null,
            "align_self": null,
            "height": null,
            "min_height": null,
            "padding": null,
            "grid_auto_rows": null,
            "grid_gap": null,
            "max_width": null,
            "order": null,
            "_view_module_version": "1.2.0",
            "grid_template_areas": null,
            "object_position": null,
            "object_fit": null,
            "grid_auto_columns": null,
            "margin": null,
            "display": null,
            "left": null
          }
        },
        "0dadb78c94b04f4bb0e7bb1665706a08": {
          "model_module": "@jupyter-widgets/controls",
          "model_name": "FloatProgressModel",
          "state": {
            "_view_name": "ProgressView",
            "style": "IPY_MODEL_0e344d7f23674c10958af3189ded014d",
            "_dom_classes": [],
            "description": "Dl Size...: 100%",
            "_model_name": "FloatProgressModel",
            "bar_style": "success",
            "max": 1,
            "_view_module": "@jupyter-widgets/controls",
            "_model_module_version": "1.5.0",
            "value": 1,
            "_view_count": null,
            "_view_module_version": "1.5.0",
            "orientation": "horizontal",
            "min": 0,
            "description_tooltip": null,
            "_model_module": "@jupyter-widgets/controls",
            "layout": "IPY_MODEL_d5fbe61d68d3456c823d7c4d6aba87ee"
          }
        },
        "4c0082656756430da7159f596b33965d": {
          "model_module": "@jupyter-widgets/controls",
          "model_name": "HTMLModel",
          "state": {
            "_view_name": "HTMLView",
            "style": "IPY_MODEL_9b3c53ce300b4f5bb355668e3730e773",
            "_dom_classes": [],
            "description": "",
            "_model_name": "HTMLModel",
            "placeholder": "​",
            "_view_module": "@jupyter-widgets/controls",
            "_model_module_version": "1.5.0",
            "value": " 80/80 [00:01&lt;00:00, 50.05 MiB/s]",
            "_view_count": null,
            "_view_module_version": "1.5.0",
            "description_tooltip": null,
            "_model_module": "@jupyter-widgets/controls",
            "layout": "IPY_MODEL_0f81bc35b960473ab8101272d78d5303"
          }
        },
        "0e344d7f23674c10958af3189ded014d": {
          "model_module": "@jupyter-widgets/controls",
          "model_name": "ProgressStyleModel",
          "state": {
            "_view_name": "StyleView",
            "_model_name": "ProgressStyleModel",
            "description_width": "initial",
            "_view_module": "@jupyter-widgets/base",
            "_model_module_version": "1.5.0",
            "_view_count": null,
            "_view_module_version": "1.2.0",
            "bar_color": null,
            "_model_module": "@jupyter-widgets/controls"
          }
        },
        "d5fbe61d68d3456c823d7c4d6aba87ee": {
          "model_module": "@jupyter-widgets/base",
          "model_name": "LayoutModel",
          "state": {
            "_view_name": "LayoutView",
            "grid_template_rows": null,
            "right": null,
            "justify_content": null,
            "_view_module": "@jupyter-widgets/base",
            "overflow": null,
            "_model_module_version": "1.2.0",
            "_view_count": null,
            "flex_flow": null,
            "width": null,
            "min_width": null,
            "border": null,
            "align_items": null,
            "bottom": null,
            "_model_module": "@jupyter-widgets/base",
            "top": null,
            "grid_column": null,
            "overflow_y": null,
            "overflow_x": null,
            "grid_auto_flow": null,
            "grid_area": null,
            "grid_template_columns": null,
            "flex": null,
            "_model_name": "LayoutModel",
            "justify_items": null,
            "grid_row": null,
            "max_height": null,
            "align_content": null,
            "visibility": null,
            "align_self": null,
            "height": null,
            "min_height": null,
            "padding": null,
            "grid_auto_rows": null,
            "grid_gap": null,
            "max_width": null,
            "order": null,
            "_view_module_version": "1.2.0",
            "grid_template_areas": null,
            "object_position": null,
            "object_fit": null,
            "grid_auto_columns": null,
            "margin": null,
            "display": null,
            "left": null
          }
        },
        "9b3c53ce300b4f5bb355668e3730e773": {
          "model_module": "@jupyter-widgets/controls",
          "model_name": "DescriptionStyleModel",
          "state": {
            "_view_name": "StyleView",
            "_model_name": "DescriptionStyleModel",
            "description_width": "",
            "_view_module": "@jupyter-widgets/base",
            "_model_module_version": "1.5.0",
            "_view_count": null,
            "_view_module_version": "1.2.0",
            "_model_module": "@jupyter-widgets/controls"
          }
        },
        "0f81bc35b960473ab8101272d78d5303": {
          "model_module": "@jupyter-widgets/base",
          "model_name": "LayoutModel",
          "state": {
            "_view_name": "LayoutView",
            "grid_template_rows": null,
            "right": null,
            "justify_content": null,
            "_view_module": "@jupyter-widgets/base",
            "overflow": null,
            "_model_module_version": "1.2.0",
            "_view_count": null,
            "flex_flow": null,
            "width": null,
            "min_width": null,
            "border": null,
            "align_items": null,
            "bottom": null,
            "_model_module": "@jupyter-widgets/base",
            "top": null,
            "grid_column": null,
            "overflow_y": null,
            "overflow_x": null,
            "grid_auto_flow": null,
            "grid_area": null,
            "grid_template_columns": null,
            "flex": null,
            "_model_name": "LayoutModel",
            "justify_items": null,
            "grid_row": null,
            "max_height": null,
            "align_content": null,
            "visibility": null,
            "align_self": null,
            "height": null,
            "min_height": null,
            "padding": null,
            "grid_auto_rows": null,
            "grid_gap": null,
            "max_width": null,
            "order": null,
            "_view_module_version": "1.2.0",
            "grid_template_areas": null,
            "object_position": null,
            "object_fit": null,
            "grid_auto_columns": null,
            "margin": null,
            "display": null,
            "left": null
          }
        },
        "d35729529a37434cbf103451a398e75b": {
          "model_module": "@jupyter-widgets/controls",
          "model_name": "HBoxModel",
          "state": {
            "_view_name": "HBoxView",
            "_dom_classes": [],
            "_model_name": "HBoxModel",
            "_view_module": "@jupyter-widgets/controls",
            "_model_module_version": "1.5.0",
            "_view_count": null,
            "_view_module_version": "1.5.0",
            "box_style": "",
            "layout": "IPY_MODEL_a52d1360d2af42b5a3958ffe8eafa18c",
            "_model_module": "@jupyter-widgets/controls",
            "children": [
              "IPY_MODEL_263e2b34f3184a4dbb4406cc965a8ddc",
              "IPY_MODEL_ffbc64165545477c97a0f8994ac256a9"
            ]
          }
        },
        "a52d1360d2af42b5a3958ffe8eafa18c": {
          "model_module": "@jupyter-widgets/base",
          "model_name": "LayoutModel",
          "state": {
            "_view_name": "LayoutView",
            "grid_template_rows": null,
            "right": null,
            "justify_content": null,
            "_view_module": "@jupyter-widgets/base",
            "overflow": null,
            "_model_module_version": "1.2.0",
            "_view_count": null,
            "flex_flow": null,
            "width": null,
            "min_width": null,
            "border": null,
            "align_items": null,
            "bottom": null,
            "_model_module": "@jupyter-widgets/base",
            "top": null,
            "grid_column": null,
            "overflow_y": null,
            "overflow_x": null,
            "grid_auto_flow": null,
            "grid_area": null,
            "grid_template_columns": null,
            "flex": null,
            "_model_name": "LayoutModel",
            "justify_items": null,
            "grid_row": null,
            "max_height": null,
            "align_content": null,
            "visibility": null,
            "align_self": null,
            "height": null,
            "min_height": null,
            "padding": null,
            "grid_auto_rows": null,
            "grid_gap": null,
            "max_width": null,
            "order": null,
            "_view_module_version": "1.2.0",
            "grid_template_areas": null,
            "object_position": null,
            "object_fit": null,
            "grid_auto_columns": null,
            "margin": null,
            "display": null,
            "left": null
          }
        },
        "263e2b34f3184a4dbb4406cc965a8ddc": {
          "model_module": "@jupyter-widgets/controls",
          "model_name": "FloatProgressModel",
          "state": {
            "_view_name": "ProgressView",
            "style": "IPY_MODEL_063d265b438943b7a9175cc6879ce89c",
            "_dom_classes": [],
            "description": "",
            "_model_name": "FloatProgressModel",
            "bar_style": "info",
            "max": 1,
            "_view_module": "@jupyter-widgets/controls",
            "_model_module_version": "1.5.0",
            "value": 1,
            "_view_count": null,
            "_view_module_version": "1.5.0",
            "orientation": "horizontal",
            "min": 0,
            "description_tooltip": null,
            "_model_module": "@jupyter-widgets/controls",
            "layout": "IPY_MODEL_99630845065b426a842084ecd969f849"
          }
        },
        "ffbc64165545477c97a0f8994ac256a9": {
          "model_module": "@jupyter-widgets/controls",
          "model_name": "HTMLModel",
          "state": {
            "_view_name": "HTMLView",
            "style": "IPY_MODEL_b5847f137bd041e1ba333922be15d13d",
            "_dom_classes": [],
            "description": "",
            "_model_name": "HTMLModel",
            "placeholder": "​",
            "_view_module": "@jupyter-widgets/controls",
            "_model_module_version": "1.5.0",
            "value": " 25000/0 [00:34&lt;00:00, 892.67 examples/s]",
            "_view_count": null,
            "_view_module_version": "1.5.0",
            "description_tooltip": null,
            "_model_module": "@jupyter-widgets/controls",
            "layout": "IPY_MODEL_e77bca2cc8514c479a01790f93b754db"
          }
        },
        "063d265b438943b7a9175cc6879ce89c": {
          "model_module": "@jupyter-widgets/controls",
          "model_name": "ProgressStyleModel",
          "state": {
            "_view_name": "StyleView",
            "_model_name": "ProgressStyleModel",
            "description_width": "initial",
            "_view_module": "@jupyter-widgets/base",
            "_model_module_version": "1.5.0",
            "_view_count": null,
            "_view_module_version": "1.2.0",
            "bar_color": null,
            "_model_module": "@jupyter-widgets/controls"
          }
        },
        "99630845065b426a842084ecd969f849": {
          "model_module": "@jupyter-widgets/base",
          "model_name": "LayoutModel",
          "state": {
            "_view_name": "LayoutView",
            "grid_template_rows": null,
            "right": null,
            "justify_content": null,
            "_view_module": "@jupyter-widgets/base",
            "overflow": null,
            "_model_module_version": "1.2.0",
            "_view_count": null,
            "flex_flow": null,
            "width": null,
            "min_width": null,
            "border": null,
            "align_items": null,
            "bottom": null,
            "_model_module": "@jupyter-widgets/base",
            "top": null,
            "grid_column": null,
            "overflow_y": null,
            "overflow_x": null,
            "grid_auto_flow": null,
            "grid_area": null,
            "grid_template_columns": null,
            "flex": null,
            "_model_name": "LayoutModel",
            "justify_items": null,
            "grid_row": null,
            "max_height": null,
            "align_content": null,
            "visibility": null,
            "align_self": null,
            "height": null,
            "min_height": null,
            "padding": null,
            "grid_auto_rows": null,
            "grid_gap": null,
            "max_width": null,
            "order": null,
            "_view_module_version": "1.2.0",
            "grid_template_areas": null,
            "object_position": null,
            "object_fit": null,
            "grid_auto_columns": null,
            "margin": null,
            "display": null,
            "left": null
          }
        },
        "b5847f137bd041e1ba333922be15d13d": {
          "model_module": "@jupyter-widgets/controls",
          "model_name": "DescriptionStyleModel",
          "state": {
            "_view_name": "StyleView",
            "_model_name": "DescriptionStyleModel",
            "description_width": "",
            "_view_module": "@jupyter-widgets/base",
            "_model_module_version": "1.5.0",
            "_view_count": null,
            "_view_module_version": "1.2.0",
            "_model_module": "@jupyter-widgets/controls"
          }
        },
        "e77bca2cc8514c479a01790f93b754db": {
          "model_module": "@jupyter-widgets/base",
          "model_name": "LayoutModel",
          "state": {
            "_view_name": "LayoutView",
            "grid_template_rows": null,
            "right": null,
            "justify_content": null,
            "_view_module": "@jupyter-widgets/base",
            "overflow": null,
            "_model_module_version": "1.2.0",
            "_view_count": null,
            "flex_flow": null,
            "width": null,
            "min_width": null,
            "border": null,
            "align_items": null,
            "bottom": null,
            "_model_module": "@jupyter-widgets/base",
            "top": null,
            "grid_column": null,
            "overflow_y": null,
            "overflow_x": null,
            "grid_auto_flow": null,
            "grid_area": null,
            "grid_template_columns": null,
            "flex": null,
            "_model_name": "LayoutModel",
            "justify_items": null,
            "grid_row": null,
            "max_height": null,
            "align_content": null,
            "visibility": null,
            "align_self": null,
            "height": null,
            "min_height": null,
            "padding": null,
            "grid_auto_rows": null,
            "grid_gap": null,
            "max_width": null,
            "order": null,
            "_view_module_version": "1.2.0",
            "grid_template_areas": null,
            "object_position": null,
            "object_fit": null,
            "grid_auto_columns": null,
            "margin": null,
            "display": null,
            "left": null
          }
        },
        "a27c218f2965401e84d92f71e5b10fdd": {
          "model_module": "@jupyter-widgets/controls",
          "model_name": "HBoxModel",
          "state": {
            "_view_name": "HBoxView",
            "_dom_classes": [],
            "_model_name": "HBoxModel",
            "_view_module": "@jupyter-widgets/controls",
            "_model_module_version": "1.5.0",
            "_view_count": null,
            "_view_module_version": "1.5.0",
            "box_style": "",
            "layout": "IPY_MODEL_cdab5346d5d7473497f32596a9cd15fb",
            "_model_module": "@jupyter-widgets/controls",
            "children": [
              "IPY_MODEL_1c98397fec4b423796e297f1110d5e48",
              "IPY_MODEL_f1e44bf174c843c0a8583ac20635d963"
            ]
          }
        },
        "cdab5346d5d7473497f32596a9cd15fb": {
          "model_module": "@jupyter-widgets/base",
          "model_name": "LayoutModel",
          "state": {
            "_view_name": "LayoutView",
            "grid_template_rows": null,
            "right": null,
            "justify_content": null,
            "_view_module": "@jupyter-widgets/base",
            "overflow": null,
            "_model_module_version": "1.2.0",
            "_view_count": null,
            "flex_flow": null,
            "width": null,
            "min_width": null,
            "border": null,
            "align_items": null,
            "bottom": null,
            "_model_module": "@jupyter-widgets/base",
            "top": null,
            "grid_column": null,
            "overflow_y": null,
            "overflow_x": null,
            "grid_auto_flow": null,
            "grid_area": null,
            "grid_template_columns": null,
            "flex": null,
            "_model_name": "LayoutModel",
            "justify_items": null,
            "grid_row": null,
            "max_height": null,
            "align_content": null,
            "visibility": null,
            "align_self": null,
            "height": null,
            "min_height": null,
            "padding": null,
            "grid_auto_rows": null,
            "grid_gap": null,
            "max_width": null,
            "order": null,
            "_view_module_version": "1.2.0",
            "grid_template_areas": null,
            "object_position": null,
            "object_fit": null,
            "grid_auto_columns": null,
            "margin": null,
            "display": null,
            "left": null
          }
        },
        "1c98397fec4b423796e297f1110d5e48": {
          "model_module": "@jupyter-widgets/controls",
          "model_name": "FloatProgressModel",
          "state": {
            "_view_name": "ProgressView",
            "style": "IPY_MODEL_b4b6e22facd243d798d935c56f467f9d",
            "_dom_classes": [],
            "description": " 64%",
            "_model_name": "FloatProgressModel",
            "bar_style": "danger",
            "max": 25000,
            "_view_module": "@jupyter-widgets/controls",
            "_model_module_version": "1.5.0",
            "value": 16078,
            "_view_count": null,
            "_view_module_version": "1.5.0",
            "orientation": "horizontal",
            "min": 0,
            "description_tooltip": null,
            "_model_module": "@jupyter-widgets/controls",
            "layout": "IPY_MODEL_0d675b7396174fce8aa7fd362f886f24"
          }
        },
        "f1e44bf174c843c0a8583ac20635d963": {
          "model_module": "@jupyter-widgets/controls",
          "model_name": "HTMLModel",
          "state": {
            "_view_name": "HTMLView",
            "style": "IPY_MODEL_58331f9df5b2445ab37507d2b0ee91da",
            "_dom_classes": [],
            "description": "",
            "_model_name": "HTMLModel",
            "placeholder": "​",
            "_view_module": "@jupyter-widgets/controls",
            "_model_module_version": "1.5.0",
            "value": " 16078/25000 [00:00&lt;00:00, 160770.57 examples/s]",
            "_view_count": null,
            "_view_module_version": "1.5.0",
            "description_tooltip": null,
            "_model_module": "@jupyter-widgets/controls",
            "layout": "IPY_MODEL_05838024575f4e86b8c1fdaf01efd360"
          }
        },
        "b4b6e22facd243d798d935c56f467f9d": {
          "model_module": "@jupyter-widgets/controls",
          "model_name": "ProgressStyleModel",
          "state": {
            "_view_name": "StyleView",
            "_model_name": "ProgressStyleModel",
            "description_width": "initial",
            "_view_module": "@jupyter-widgets/base",
            "_model_module_version": "1.5.0",
            "_view_count": null,
            "_view_module_version": "1.2.0",
            "bar_color": null,
            "_model_module": "@jupyter-widgets/controls"
          }
        },
        "0d675b7396174fce8aa7fd362f886f24": {
          "model_module": "@jupyter-widgets/base",
          "model_name": "LayoutModel",
          "state": {
            "_view_name": "LayoutView",
            "grid_template_rows": null,
            "right": null,
            "justify_content": null,
            "_view_module": "@jupyter-widgets/base",
            "overflow": null,
            "_model_module_version": "1.2.0",
            "_view_count": null,
            "flex_flow": null,
            "width": null,
            "min_width": null,
            "border": null,
            "align_items": null,
            "bottom": null,
            "_model_module": "@jupyter-widgets/base",
            "top": null,
            "grid_column": null,
            "overflow_y": null,
            "overflow_x": null,
            "grid_auto_flow": null,
            "grid_area": null,
            "grid_template_columns": null,
            "flex": null,
            "_model_name": "LayoutModel",
            "justify_items": null,
            "grid_row": null,
            "max_height": null,
            "align_content": null,
            "visibility": null,
            "align_self": null,
            "height": null,
            "min_height": null,
            "padding": null,
            "grid_auto_rows": null,
            "grid_gap": null,
            "max_width": null,
            "order": null,
            "_view_module_version": "1.2.0",
            "grid_template_areas": null,
            "object_position": null,
            "object_fit": null,
            "grid_auto_columns": null,
            "margin": null,
            "display": null,
            "left": null
          }
        },
        "58331f9df5b2445ab37507d2b0ee91da": {
          "model_module": "@jupyter-widgets/controls",
          "model_name": "DescriptionStyleModel",
          "state": {
            "_view_name": "StyleView",
            "_model_name": "DescriptionStyleModel",
            "description_width": "",
            "_view_module": "@jupyter-widgets/base",
            "_model_module_version": "1.5.0",
            "_view_count": null,
            "_view_module_version": "1.2.0",
            "_model_module": "@jupyter-widgets/controls"
          }
        },
        "05838024575f4e86b8c1fdaf01efd360": {
          "model_module": "@jupyter-widgets/base",
          "model_name": "LayoutModel",
          "state": {
            "_view_name": "LayoutView",
            "grid_template_rows": null,
            "right": null,
            "justify_content": null,
            "_view_module": "@jupyter-widgets/base",
            "overflow": null,
            "_model_module_version": "1.2.0",
            "_view_count": null,
            "flex_flow": null,
            "width": null,
            "min_width": null,
            "border": null,
            "align_items": null,
            "bottom": null,
            "_model_module": "@jupyter-widgets/base",
            "top": null,
            "grid_column": null,
            "overflow_y": null,
            "overflow_x": null,
            "grid_auto_flow": null,
            "grid_area": null,
            "grid_template_columns": null,
            "flex": null,
            "_model_name": "LayoutModel",
            "justify_items": null,
            "grid_row": null,
            "max_height": null,
            "align_content": null,
            "visibility": null,
            "align_self": null,
            "height": null,
            "min_height": null,
            "padding": null,
            "grid_auto_rows": null,
            "grid_gap": null,
            "max_width": null,
            "order": null,
            "_view_module_version": "1.2.0",
            "grid_template_areas": null,
            "object_position": null,
            "object_fit": null,
            "grid_auto_columns": null,
            "margin": null,
            "display": null,
            "left": null
          }
        },
        "470c7ece1ba34280a2d0d584e2596c05": {
          "model_module": "@jupyter-widgets/controls",
          "model_name": "HBoxModel",
          "state": {
            "_view_name": "HBoxView",
            "_dom_classes": [],
            "_model_name": "HBoxModel",
            "_view_module": "@jupyter-widgets/controls",
            "_model_module_version": "1.5.0",
            "_view_count": null,
            "_view_module_version": "1.5.0",
            "box_style": "",
            "layout": "IPY_MODEL_f7ac92b5f47e443bba561d1f73a699cc",
            "_model_module": "@jupyter-widgets/controls",
            "children": [
              "IPY_MODEL_9af427c67cc5427c9102d4893bf4fc0e",
              "IPY_MODEL_4e4480a5d4024724ba41cd44a4b58c06"
            ]
          }
        },
        "f7ac92b5f47e443bba561d1f73a699cc": {
          "model_module": "@jupyter-widgets/base",
          "model_name": "LayoutModel",
          "state": {
            "_view_name": "LayoutView",
            "grid_template_rows": null,
            "right": null,
            "justify_content": null,
            "_view_module": "@jupyter-widgets/base",
            "overflow": null,
            "_model_module_version": "1.2.0",
            "_view_count": null,
            "flex_flow": null,
            "width": null,
            "min_width": null,
            "border": null,
            "align_items": null,
            "bottom": null,
            "_model_module": "@jupyter-widgets/base",
            "top": null,
            "grid_column": null,
            "overflow_y": null,
            "overflow_x": null,
            "grid_auto_flow": null,
            "grid_area": null,
            "grid_template_columns": null,
            "flex": null,
            "_model_name": "LayoutModel",
            "justify_items": null,
            "grid_row": null,
            "max_height": null,
            "align_content": null,
            "visibility": null,
            "align_self": null,
            "height": null,
            "min_height": null,
            "padding": null,
            "grid_auto_rows": null,
            "grid_gap": null,
            "max_width": null,
            "order": null,
            "_view_module_version": "1.2.0",
            "grid_template_areas": null,
            "object_position": null,
            "object_fit": null,
            "grid_auto_columns": null,
            "margin": null,
            "display": null,
            "left": null
          }
        },
        "9af427c67cc5427c9102d4893bf4fc0e": {
          "model_module": "@jupyter-widgets/controls",
          "model_name": "FloatProgressModel",
          "state": {
            "_view_name": "ProgressView",
            "style": "IPY_MODEL_787c495048684274a4cc4b704b37ec51",
            "_dom_classes": [],
            "description": "",
            "_model_name": "FloatProgressModel",
            "bar_style": "info",
            "max": 1,
            "_view_module": "@jupyter-widgets/controls",
            "_model_module_version": "1.5.0",
            "value": 1,
            "_view_count": null,
            "_view_module_version": "1.5.0",
            "orientation": "horizontal",
            "min": 0,
            "description_tooltip": null,
            "_model_module": "@jupyter-widgets/controls",
            "layout": "IPY_MODEL_e41ff75c6b42485eb64b0c6d7af1cd2e"
          }
        },
        "4e4480a5d4024724ba41cd44a4b58c06": {
          "model_module": "@jupyter-widgets/controls",
          "model_name": "HTMLModel",
          "state": {
            "_view_name": "HTMLView",
            "style": "IPY_MODEL_e251e11670954641828bda3858337a7a",
            "_dom_classes": [],
            "description": "",
            "_model_name": "HTMLModel",
            "placeholder": "​",
            "_view_module": "@jupyter-widgets/controls",
            "_model_module_version": "1.5.0",
            "value": " 25000/0 [00:32&lt;00:00, 937.32 examples/s]",
            "_view_count": null,
            "_view_module_version": "1.5.0",
            "description_tooltip": null,
            "_model_module": "@jupyter-widgets/controls",
            "layout": "IPY_MODEL_f8620b14f2744b96ad78b377acb6d1d2"
          }
        },
        "787c495048684274a4cc4b704b37ec51": {
          "model_module": "@jupyter-widgets/controls",
          "model_name": "ProgressStyleModel",
          "state": {
            "_view_name": "StyleView",
            "_model_name": "ProgressStyleModel",
            "description_width": "initial",
            "_view_module": "@jupyter-widgets/base",
            "_model_module_version": "1.5.0",
            "_view_count": null,
            "_view_module_version": "1.2.0",
            "bar_color": null,
            "_model_module": "@jupyter-widgets/controls"
          }
        },
        "e41ff75c6b42485eb64b0c6d7af1cd2e": {
          "model_module": "@jupyter-widgets/base",
          "model_name": "LayoutModel",
          "state": {
            "_view_name": "LayoutView",
            "grid_template_rows": null,
            "right": null,
            "justify_content": null,
            "_view_module": "@jupyter-widgets/base",
            "overflow": null,
            "_model_module_version": "1.2.0",
            "_view_count": null,
            "flex_flow": null,
            "width": null,
            "min_width": null,
            "border": null,
            "align_items": null,
            "bottom": null,
            "_model_module": "@jupyter-widgets/base",
            "top": null,
            "grid_column": null,
            "overflow_y": null,
            "overflow_x": null,
            "grid_auto_flow": null,
            "grid_area": null,
            "grid_template_columns": null,
            "flex": null,
            "_model_name": "LayoutModel",
            "justify_items": null,
            "grid_row": null,
            "max_height": null,
            "align_content": null,
            "visibility": null,
            "align_self": null,
            "height": null,
            "min_height": null,
            "padding": null,
            "grid_auto_rows": null,
            "grid_gap": null,
            "max_width": null,
            "order": null,
            "_view_module_version": "1.2.0",
            "grid_template_areas": null,
            "object_position": null,
            "object_fit": null,
            "grid_auto_columns": null,
            "margin": null,
            "display": null,
            "left": null
          }
        },
        "e251e11670954641828bda3858337a7a": {
          "model_module": "@jupyter-widgets/controls",
          "model_name": "DescriptionStyleModel",
          "state": {
            "_view_name": "StyleView",
            "_model_name": "DescriptionStyleModel",
            "description_width": "",
            "_view_module": "@jupyter-widgets/base",
            "_model_module_version": "1.5.0",
            "_view_count": null,
            "_view_module_version": "1.2.0",
            "_model_module": "@jupyter-widgets/controls"
          }
        },
        "f8620b14f2744b96ad78b377acb6d1d2": {
          "model_module": "@jupyter-widgets/base",
          "model_name": "LayoutModel",
          "state": {
            "_view_name": "LayoutView",
            "grid_template_rows": null,
            "right": null,
            "justify_content": null,
            "_view_module": "@jupyter-widgets/base",
            "overflow": null,
            "_model_module_version": "1.2.0",
            "_view_count": null,
            "flex_flow": null,
            "width": null,
            "min_width": null,
            "border": null,
            "align_items": null,
            "bottom": null,
            "_model_module": "@jupyter-widgets/base",
            "top": null,
            "grid_column": null,
            "overflow_y": null,
            "overflow_x": null,
            "grid_auto_flow": null,
            "grid_area": null,
            "grid_template_columns": null,
            "flex": null,
            "_model_name": "LayoutModel",
            "justify_items": null,
            "grid_row": null,
            "max_height": null,
            "align_content": null,
            "visibility": null,
            "align_self": null,
            "height": null,
            "min_height": null,
            "padding": null,
            "grid_auto_rows": null,
            "grid_gap": null,
            "max_width": null,
            "order": null,
            "_view_module_version": "1.2.0",
            "grid_template_areas": null,
            "object_position": null,
            "object_fit": null,
            "grid_auto_columns": null,
            "margin": null,
            "display": null,
            "left": null
          }
        },
        "fb8647d656164638a81b939ef0e67b54": {
          "model_module": "@jupyter-widgets/controls",
          "model_name": "HBoxModel",
          "state": {
            "_view_name": "HBoxView",
            "_dom_classes": [],
            "_model_name": "HBoxModel",
            "_view_module": "@jupyter-widgets/controls",
            "_model_module_version": "1.5.0",
            "_view_count": null,
            "_view_module_version": "1.5.0",
            "box_style": "",
            "layout": "IPY_MODEL_d05ac2c668ea4560ab1c5818e4e6a88f",
            "_model_module": "@jupyter-widgets/controls",
            "children": [
              "IPY_MODEL_f5109f49e549458c8d4f6abc850ba063",
              "IPY_MODEL_6e6af547bf5b47aea84323bde1ca5526"
            ]
          }
        },
        "d05ac2c668ea4560ab1c5818e4e6a88f": {
          "model_module": "@jupyter-widgets/base",
          "model_name": "LayoutModel",
          "state": {
            "_view_name": "LayoutView",
            "grid_template_rows": null,
            "right": null,
            "justify_content": null,
            "_view_module": "@jupyter-widgets/base",
            "overflow": null,
            "_model_module_version": "1.2.0",
            "_view_count": null,
            "flex_flow": null,
            "width": null,
            "min_width": null,
            "border": null,
            "align_items": null,
            "bottom": null,
            "_model_module": "@jupyter-widgets/base",
            "top": null,
            "grid_column": null,
            "overflow_y": null,
            "overflow_x": null,
            "grid_auto_flow": null,
            "grid_area": null,
            "grid_template_columns": null,
            "flex": null,
            "_model_name": "LayoutModel",
            "justify_items": null,
            "grid_row": null,
            "max_height": null,
            "align_content": null,
            "visibility": null,
            "align_self": null,
            "height": null,
            "min_height": null,
            "padding": null,
            "grid_auto_rows": null,
            "grid_gap": null,
            "max_width": null,
            "order": null,
            "_view_module_version": "1.2.0",
            "grid_template_areas": null,
            "object_position": null,
            "object_fit": null,
            "grid_auto_columns": null,
            "margin": null,
            "display": null,
            "left": null
          }
        },
        "f5109f49e549458c8d4f6abc850ba063": {
          "model_module": "@jupyter-widgets/controls",
          "model_name": "FloatProgressModel",
          "state": {
            "_view_name": "ProgressView",
            "style": "IPY_MODEL_50e59a7627ef4463b89a0032acf4cf3f",
            "_dom_classes": [],
            "description": " 47%",
            "_model_name": "FloatProgressModel",
            "bar_style": "danger",
            "max": 25000,
            "_view_module": "@jupyter-widgets/controls",
            "_model_module_version": "1.5.0",
            "value": 11659,
            "_view_count": null,
            "_view_module_version": "1.5.0",
            "orientation": "horizontal",
            "min": 0,
            "description_tooltip": null,
            "_model_module": "@jupyter-widgets/controls",
            "layout": "IPY_MODEL_4be56802122b47f3a0c188bd1eb02083"
          }
        },
        "6e6af547bf5b47aea84323bde1ca5526": {
          "model_module": "@jupyter-widgets/controls",
          "model_name": "HTMLModel",
          "state": {
            "_view_name": "HTMLView",
            "style": "IPY_MODEL_dd13a57449044f47a1b59db28a67fcfe",
            "_dom_classes": [],
            "description": "",
            "_model_name": "HTMLModel",
            "placeholder": "​",
            "_view_module": "@jupyter-widgets/controls",
            "_model_module_version": "1.5.0",
            "value": " 11659/25000 [00:00&lt;00:00, 116583.16 examples/s]",
            "_view_count": null,
            "_view_module_version": "1.5.0",
            "description_tooltip": null,
            "_model_module": "@jupyter-widgets/controls",
            "layout": "IPY_MODEL_b622ecbbdcbb424b9e23b9ef94cdb90b"
          }
        },
        "50e59a7627ef4463b89a0032acf4cf3f": {
          "model_module": "@jupyter-widgets/controls",
          "model_name": "ProgressStyleModel",
          "state": {
            "_view_name": "StyleView",
            "_model_name": "ProgressStyleModel",
            "description_width": "initial",
            "_view_module": "@jupyter-widgets/base",
            "_model_module_version": "1.5.0",
            "_view_count": null,
            "_view_module_version": "1.2.0",
            "bar_color": null,
            "_model_module": "@jupyter-widgets/controls"
          }
        },
        "4be56802122b47f3a0c188bd1eb02083": {
          "model_module": "@jupyter-widgets/base",
          "model_name": "LayoutModel",
          "state": {
            "_view_name": "LayoutView",
            "grid_template_rows": null,
            "right": null,
            "justify_content": null,
            "_view_module": "@jupyter-widgets/base",
            "overflow": null,
            "_model_module_version": "1.2.0",
            "_view_count": null,
            "flex_flow": null,
            "width": null,
            "min_width": null,
            "border": null,
            "align_items": null,
            "bottom": null,
            "_model_module": "@jupyter-widgets/base",
            "top": null,
            "grid_column": null,
            "overflow_y": null,
            "overflow_x": null,
            "grid_auto_flow": null,
            "grid_area": null,
            "grid_template_columns": null,
            "flex": null,
            "_model_name": "LayoutModel",
            "justify_items": null,
            "grid_row": null,
            "max_height": null,
            "align_content": null,
            "visibility": null,
            "align_self": null,
            "height": null,
            "min_height": null,
            "padding": null,
            "grid_auto_rows": null,
            "grid_gap": null,
            "max_width": null,
            "order": null,
            "_view_module_version": "1.2.0",
            "grid_template_areas": null,
            "object_position": null,
            "object_fit": null,
            "grid_auto_columns": null,
            "margin": null,
            "display": null,
            "left": null
          }
        },
        "dd13a57449044f47a1b59db28a67fcfe": {
          "model_module": "@jupyter-widgets/controls",
          "model_name": "DescriptionStyleModel",
          "state": {
            "_view_name": "StyleView",
            "_model_name": "DescriptionStyleModel",
            "description_width": "",
            "_view_module": "@jupyter-widgets/base",
            "_model_module_version": "1.5.0",
            "_view_count": null,
            "_view_module_version": "1.2.0",
            "_model_module": "@jupyter-widgets/controls"
          }
        },
        "b622ecbbdcbb424b9e23b9ef94cdb90b": {
          "model_module": "@jupyter-widgets/base",
          "model_name": "LayoutModel",
          "state": {
            "_view_name": "LayoutView",
            "grid_template_rows": null,
            "right": null,
            "justify_content": null,
            "_view_module": "@jupyter-widgets/base",
            "overflow": null,
            "_model_module_version": "1.2.0",
            "_view_count": null,
            "flex_flow": null,
            "width": null,
            "min_width": null,
            "border": null,
            "align_items": null,
            "bottom": null,
            "_model_module": "@jupyter-widgets/base",
            "top": null,
            "grid_column": null,
            "overflow_y": null,
            "overflow_x": null,
            "grid_auto_flow": null,
            "grid_area": null,
            "grid_template_columns": null,
            "flex": null,
            "_model_name": "LayoutModel",
            "justify_items": null,
            "grid_row": null,
            "max_height": null,
            "align_content": null,
            "visibility": null,
            "align_self": null,
            "height": null,
            "min_height": null,
            "padding": null,
            "grid_auto_rows": null,
            "grid_gap": null,
            "max_width": null,
            "order": null,
            "_view_module_version": "1.2.0",
            "grid_template_areas": null,
            "object_position": null,
            "object_fit": null,
            "grid_auto_columns": null,
            "margin": null,
            "display": null,
            "left": null
          }
        },
        "c43618598f16451f9bb19094d9019257": {
          "model_module": "@jupyter-widgets/controls",
          "model_name": "HBoxModel",
          "state": {
            "_view_name": "HBoxView",
            "_dom_classes": [],
            "_model_name": "HBoxModel",
            "_view_module": "@jupyter-widgets/controls",
            "_model_module_version": "1.5.0",
            "_view_count": null,
            "_view_module_version": "1.5.0",
            "box_style": "",
            "layout": "IPY_MODEL_9b4c5bf897d5441d80d5f4aa3f3bfc99",
            "_model_module": "@jupyter-widgets/controls",
            "children": [
              "IPY_MODEL_6a3fb8eb33ed4e0aa95f61b0d1fb69d0",
              "IPY_MODEL_d128d27c641d4f4091eeab280b468f5b"
            ]
          }
        },
        "9b4c5bf897d5441d80d5f4aa3f3bfc99": {
          "model_module": "@jupyter-widgets/base",
          "model_name": "LayoutModel",
          "state": {
            "_view_name": "LayoutView",
            "grid_template_rows": null,
            "right": null,
            "justify_content": null,
            "_view_module": "@jupyter-widgets/base",
            "overflow": null,
            "_model_module_version": "1.2.0",
            "_view_count": null,
            "flex_flow": null,
            "width": null,
            "min_width": null,
            "border": null,
            "align_items": null,
            "bottom": null,
            "_model_module": "@jupyter-widgets/base",
            "top": null,
            "grid_column": null,
            "overflow_y": null,
            "overflow_x": null,
            "grid_auto_flow": null,
            "grid_area": null,
            "grid_template_columns": null,
            "flex": null,
            "_model_name": "LayoutModel",
            "justify_items": null,
            "grid_row": null,
            "max_height": null,
            "align_content": null,
            "visibility": null,
            "align_self": null,
            "height": null,
            "min_height": null,
            "padding": null,
            "grid_auto_rows": null,
            "grid_gap": null,
            "max_width": null,
            "order": null,
            "_view_module_version": "1.2.0",
            "grid_template_areas": null,
            "object_position": null,
            "object_fit": null,
            "grid_auto_columns": null,
            "margin": null,
            "display": null,
            "left": null
          }
        },
        "6a3fb8eb33ed4e0aa95f61b0d1fb69d0": {
          "model_module": "@jupyter-widgets/controls",
          "model_name": "FloatProgressModel",
          "state": {
            "_view_name": "ProgressView",
            "style": "IPY_MODEL_73526770b787493db6c3972a2bae7dc9",
            "_dom_classes": [],
            "description": "",
            "_model_name": "FloatProgressModel",
            "bar_style": "info",
            "max": 1,
            "_view_module": "@jupyter-widgets/controls",
            "_model_module_version": "1.5.0",
            "value": 1,
            "_view_count": null,
            "_view_module_version": "1.5.0",
            "orientation": "horizontal",
            "min": 0,
            "description_tooltip": null,
            "_model_module": "@jupyter-widgets/controls",
            "layout": "IPY_MODEL_10dd2c0dd71f4df7bfd7b135d06ccae1"
          }
        },
        "d128d27c641d4f4091eeab280b468f5b": {
          "model_module": "@jupyter-widgets/controls",
          "model_name": "HTMLModel",
          "state": {
            "_view_name": "HTMLView",
            "style": "IPY_MODEL_e6f5c51971d04ba589538f65ec2d8cbc",
            "_dom_classes": [],
            "description": "",
            "_model_name": "HTMLModel",
            "placeholder": "​",
            "_view_module": "@jupyter-widgets/controls",
            "_model_module_version": "1.5.0",
            "value": " 50000/0 [00:58&lt;00:00, 873.24 examples/s]",
            "_view_count": null,
            "_view_module_version": "1.5.0",
            "description_tooltip": null,
            "_model_module": "@jupyter-widgets/controls",
            "layout": "IPY_MODEL_1ba9b91187e44a879676f909e60d75b0"
          }
        },
        "73526770b787493db6c3972a2bae7dc9": {
          "model_module": "@jupyter-widgets/controls",
          "model_name": "ProgressStyleModel",
          "state": {
            "_view_name": "StyleView",
            "_model_name": "ProgressStyleModel",
            "description_width": "initial",
            "_view_module": "@jupyter-widgets/base",
            "_model_module_version": "1.5.0",
            "_view_count": null,
            "_view_module_version": "1.2.0",
            "bar_color": null,
            "_model_module": "@jupyter-widgets/controls"
          }
        },
        "10dd2c0dd71f4df7bfd7b135d06ccae1": {
          "model_module": "@jupyter-widgets/base",
          "model_name": "LayoutModel",
          "state": {
            "_view_name": "LayoutView",
            "grid_template_rows": null,
            "right": null,
            "justify_content": null,
            "_view_module": "@jupyter-widgets/base",
            "overflow": null,
            "_model_module_version": "1.2.0",
            "_view_count": null,
            "flex_flow": null,
            "width": null,
            "min_width": null,
            "border": null,
            "align_items": null,
            "bottom": null,
            "_model_module": "@jupyter-widgets/base",
            "top": null,
            "grid_column": null,
            "overflow_y": null,
            "overflow_x": null,
            "grid_auto_flow": null,
            "grid_area": null,
            "grid_template_columns": null,
            "flex": null,
            "_model_name": "LayoutModel",
            "justify_items": null,
            "grid_row": null,
            "max_height": null,
            "align_content": null,
            "visibility": null,
            "align_self": null,
            "height": null,
            "min_height": null,
            "padding": null,
            "grid_auto_rows": null,
            "grid_gap": null,
            "max_width": null,
            "order": null,
            "_view_module_version": "1.2.0",
            "grid_template_areas": null,
            "object_position": null,
            "object_fit": null,
            "grid_auto_columns": null,
            "margin": null,
            "display": null,
            "left": null
          }
        },
        "e6f5c51971d04ba589538f65ec2d8cbc": {
          "model_module": "@jupyter-widgets/controls",
          "model_name": "DescriptionStyleModel",
          "state": {
            "_view_name": "StyleView",
            "_model_name": "DescriptionStyleModel",
            "description_width": "",
            "_view_module": "@jupyter-widgets/base",
            "_model_module_version": "1.5.0",
            "_view_count": null,
            "_view_module_version": "1.2.0",
            "_model_module": "@jupyter-widgets/controls"
          }
        },
        "1ba9b91187e44a879676f909e60d75b0": {
          "model_module": "@jupyter-widgets/base",
          "model_name": "LayoutModel",
          "state": {
            "_view_name": "LayoutView",
            "grid_template_rows": null,
            "right": null,
            "justify_content": null,
            "_view_module": "@jupyter-widgets/base",
            "overflow": null,
            "_model_module_version": "1.2.0",
            "_view_count": null,
            "flex_flow": null,
            "width": null,
            "min_width": null,
            "border": null,
            "align_items": null,
            "bottom": null,
            "_model_module": "@jupyter-widgets/base",
            "top": null,
            "grid_column": null,
            "overflow_y": null,
            "overflow_x": null,
            "grid_auto_flow": null,
            "grid_area": null,
            "grid_template_columns": null,
            "flex": null,
            "_model_name": "LayoutModel",
            "justify_items": null,
            "grid_row": null,
            "max_height": null,
            "align_content": null,
            "visibility": null,
            "align_self": null,
            "height": null,
            "min_height": null,
            "padding": null,
            "grid_auto_rows": null,
            "grid_gap": null,
            "max_width": null,
            "order": null,
            "_view_module_version": "1.2.0",
            "grid_template_areas": null,
            "object_position": null,
            "object_fit": null,
            "grid_auto_columns": null,
            "margin": null,
            "display": null,
            "left": null
          }
        },
        "6a4e5a70047f47f28f49e7e0044c58ae": {
          "model_module": "@jupyter-widgets/controls",
          "model_name": "HBoxModel",
          "state": {
            "_view_name": "HBoxView",
            "_dom_classes": [],
            "_model_name": "HBoxModel",
            "_view_module": "@jupyter-widgets/controls",
            "_model_module_version": "1.5.0",
            "_view_count": null,
            "_view_module_version": "1.5.0",
            "box_style": "",
            "layout": "IPY_MODEL_5c7634f6315c469d856170fae3d6f001",
            "_model_module": "@jupyter-widgets/controls",
            "children": [
              "IPY_MODEL_5a6aad3da9ec4183b5415f4a147adace",
              "IPY_MODEL_e6d9ec5a32af43fbba7cd52afe592123"
            ]
          }
        },
        "5c7634f6315c469d856170fae3d6f001": {
          "model_module": "@jupyter-widgets/base",
          "model_name": "LayoutModel",
          "state": {
            "_view_name": "LayoutView",
            "grid_template_rows": null,
            "right": null,
            "justify_content": null,
            "_view_module": "@jupyter-widgets/base",
            "overflow": null,
            "_model_module_version": "1.2.0",
            "_view_count": null,
            "flex_flow": null,
            "width": null,
            "min_width": null,
            "border": null,
            "align_items": null,
            "bottom": null,
            "_model_module": "@jupyter-widgets/base",
            "top": null,
            "grid_column": null,
            "overflow_y": null,
            "overflow_x": null,
            "grid_auto_flow": null,
            "grid_area": null,
            "grid_template_columns": null,
            "flex": null,
            "_model_name": "LayoutModel",
            "justify_items": null,
            "grid_row": null,
            "max_height": null,
            "align_content": null,
            "visibility": null,
            "align_self": null,
            "height": null,
            "min_height": null,
            "padding": null,
            "grid_auto_rows": null,
            "grid_gap": null,
            "max_width": null,
            "order": null,
            "_view_module_version": "1.2.0",
            "grid_template_areas": null,
            "object_position": null,
            "object_fit": null,
            "grid_auto_columns": null,
            "margin": null,
            "display": null,
            "left": null
          }
        },
        "5a6aad3da9ec4183b5415f4a147adace": {
          "model_module": "@jupyter-widgets/controls",
          "model_name": "FloatProgressModel",
          "state": {
            "_view_name": "ProgressView",
            "style": "IPY_MODEL_f326dda9085044d981556a063eeb568d",
            "_dom_classes": [],
            "description": " 76%",
            "_model_name": "FloatProgressModel",
            "bar_style": "danger",
            "max": 50000,
            "_view_module": "@jupyter-widgets/controls",
            "_model_module_version": "1.5.0",
            "value": 37777,
            "_view_count": null,
            "_view_module_version": "1.5.0",
            "orientation": "horizontal",
            "min": 0,
            "description_tooltip": null,
            "_model_module": "@jupyter-widgets/controls",
            "layout": "IPY_MODEL_aedf6c3b7c67442fb2191c38b123bc4c"
          }
        },
        "e6d9ec5a32af43fbba7cd52afe592123": {
          "model_module": "@jupyter-widgets/controls",
          "model_name": "HTMLModel",
          "state": {
            "_view_name": "HTMLView",
            "style": "IPY_MODEL_f92c7285ee1949e8b4a898187ebaf166",
            "_dom_classes": [],
            "description": "",
            "_model_name": "HTMLModel",
            "placeholder": "​",
            "_view_module": "@jupyter-widgets/controls",
            "_model_module_version": "1.5.0",
            "value": " 37777/50000 [00:00&lt;00:00, 40599.80 examples/s]",
            "_view_count": null,
            "_view_module_version": "1.5.0",
            "description_tooltip": null,
            "_model_module": "@jupyter-widgets/controls",
            "layout": "IPY_MODEL_c07ddbbb72ca4eaab0abd370d8fda119"
          }
        },
        "f326dda9085044d981556a063eeb568d": {
          "model_module": "@jupyter-widgets/controls",
          "model_name": "ProgressStyleModel",
          "state": {
            "_view_name": "StyleView",
            "_model_name": "ProgressStyleModel",
            "description_width": "initial",
            "_view_module": "@jupyter-widgets/base",
            "_model_module_version": "1.5.0",
            "_view_count": null,
            "_view_module_version": "1.2.0",
            "bar_color": null,
            "_model_module": "@jupyter-widgets/controls"
          }
        },
        "aedf6c3b7c67442fb2191c38b123bc4c": {
          "model_module": "@jupyter-widgets/base",
          "model_name": "LayoutModel",
          "state": {
            "_view_name": "LayoutView",
            "grid_template_rows": null,
            "right": null,
            "justify_content": null,
            "_view_module": "@jupyter-widgets/base",
            "overflow": null,
            "_model_module_version": "1.2.0",
            "_view_count": null,
            "flex_flow": null,
            "width": null,
            "min_width": null,
            "border": null,
            "align_items": null,
            "bottom": null,
            "_model_module": "@jupyter-widgets/base",
            "top": null,
            "grid_column": null,
            "overflow_y": null,
            "overflow_x": null,
            "grid_auto_flow": null,
            "grid_area": null,
            "grid_template_columns": null,
            "flex": null,
            "_model_name": "LayoutModel",
            "justify_items": null,
            "grid_row": null,
            "max_height": null,
            "align_content": null,
            "visibility": null,
            "align_self": null,
            "height": null,
            "min_height": null,
            "padding": null,
            "grid_auto_rows": null,
            "grid_gap": null,
            "max_width": null,
            "order": null,
            "_view_module_version": "1.2.0",
            "grid_template_areas": null,
            "object_position": null,
            "object_fit": null,
            "grid_auto_columns": null,
            "margin": null,
            "display": null,
            "left": null
          }
        },
        "f92c7285ee1949e8b4a898187ebaf166": {
          "model_module": "@jupyter-widgets/controls",
          "model_name": "DescriptionStyleModel",
          "state": {
            "_view_name": "StyleView",
            "_model_name": "DescriptionStyleModel",
            "description_width": "",
            "_view_module": "@jupyter-widgets/base",
            "_model_module_version": "1.5.0",
            "_view_count": null,
            "_view_module_version": "1.2.0",
            "_model_module": "@jupyter-widgets/controls"
          }
        },
        "c07ddbbb72ca4eaab0abd370d8fda119": {
          "model_module": "@jupyter-widgets/base",
          "model_name": "LayoutModel",
          "state": {
            "_view_name": "LayoutView",
            "grid_template_rows": null,
            "right": null,
            "justify_content": null,
            "_view_module": "@jupyter-widgets/base",
            "overflow": null,
            "_model_module_version": "1.2.0",
            "_view_count": null,
            "flex_flow": null,
            "width": null,
            "min_width": null,
            "border": null,
            "align_items": null,
            "bottom": null,
            "_model_module": "@jupyter-widgets/base",
            "top": null,
            "grid_column": null,
            "overflow_y": null,
            "overflow_x": null,
            "grid_auto_flow": null,
            "grid_area": null,
            "grid_template_columns": null,
            "flex": null,
            "_model_name": "LayoutModel",
            "justify_items": null,
            "grid_row": null,
            "max_height": null,
            "align_content": null,
            "visibility": null,
            "align_self": null,
            "height": null,
            "min_height": null,
            "padding": null,
            "grid_auto_rows": null,
            "grid_gap": null,
            "max_width": null,
            "order": null,
            "_view_module_version": "1.2.0",
            "grid_template_areas": null,
            "object_position": null,
            "object_fit": null,
            "grid_auto_columns": null,
            "margin": null,
            "display": null,
            "left": null
          }
        }
      }
    }
  },
  "cells": [
    {
      "cell_type": "code",
      "metadata": {
        "colab": {
          "base_uri": "https://localhost:8080/"
        },
        "id": "JfVHY3_xVYTp",
        "outputId": "ce03c91f-09f9-426b-81ff-19c0fa4eb1d3"
      },
      "source": [
        "from __future__ import absolute_import, division, print_function, unicode_literals\n",
        "\n",
        "\n",
        "import tensorflow_datasets as tfds\n",
        "import tensorflow as tf\n",
        "print(tf.__version__)"
      ],
      "execution_count": 3,
      "outputs": [
        {
          "output_type": "stream",
          "text": [
            "2.5.0\n"
          ],
          "name": "stdout"
        }
      ]
    },
    {
      "cell_type": "code",
      "metadata": {
        "colab": {
          "base_uri": "https://localhost:8080/",
          "height": 384,
          "referenced_widgets": [
            "928aad7376cd4ef1867e945c975e5ec2",
            "b5d6691253bb4a4cbb0e48f3c234c2dc",
            "a47a1cdab9874154b6bfe2f4a800b993",
            "5f015fd8f4bf49a997b9216728d2f765",
            "43a1e883f741464f8f6b016d5adaf526",
            "b4659d0f784043348096c59828c0e2ac",
            "9c8fd03a23f64e2dab9430342b26e2d7",
            "5d0e2831fb9446ddb8a1635605ef904b",
            "8eaba0ce101c43a5825fff54e4a0410d",
            "4d7245a31da74e74a0ed3e1b0981d857",
            "0dadb78c94b04f4bb0e7bb1665706a08",
            "4c0082656756430da7159f596b33965d",
            "0e344d7f23674c10958af3189ded014d",
            "d5fbe61d68d3456c823d7c4d6aba87ee",
            "9b3c53ce300b4f5bb355668e3730e773",
            "0f81bc35b960473ab8101272d78d5303",
            "d35729529a37434cbf103451a398e75b",
            "a52d1360d2af42b5a3958ffe8eafa18c",
            "263e2b34f3184a4dbb4406cc965a8ddc",
            "ffbc64165545477c97a0f8994ac256a9",
            "063d265b438943b7a9175cc6879ce89c",
            "99630845065b426a842084ecd969f849",
            "b5847f137bd041e1ba333922be15d13d",
            "e77bca2cc8514c479a01790f93b754db",
            "a27c218f2965401e84d92f71e5b10fdd",
            "cdab5346d5d7473497f32596a9cd15fb",
            "1c98397fec4b423796e297f1110d5e48",
            "f1e44bf174c843c0a8583ac20635d963",
            "b4b6e22facd243d798d935c56f467f9d",
            "0d675b7396174fce8aa7fd362f886f24",
            "58331f9df5b2445ab37507d2b0ee91da",
            "05838024575f4e86b8c1fdaf01efd360",
            "470c7ece1ba34280a2d0d584e2596c05",
            "f7ac92b5f47e443bba561d1f73a699cc",
            "9af427c67cc5427c9102d4893bf4fc0e",
            "4e4480a5d4024724ba41cd44a4b58c06",
            "787c495048684274a4cc4b704b37ec51",
            "e41ff75c6b42485eb64b0c6d7af1cd2e",
            "e251e11670954641828bda3858337a7a",
            "f8620b14f2744b96ad78b377acb6d1d2",
            "fb8647d656164638a81b939ef0e67b54",
            "d05ac2c668ea4560ab1c5818e4e6a88f",
            "f5109f49e549458c8d4f6abc850ba063",
            "6e6af547bf5b47aea84323bde1ca5526",
            "50e59a7627ef4463b89a0032acf4cf3f",
            "4be56802122b47f3a0c188bd1eb02083",
            "dd13a57449044f47a1b59db28a67fcfe",
            "b622ecbbdcbb424b9e23b9ef94cdb90b",
            "c43618598f16451f9bb19094d9019257",
            "9b4c5bf897d5441d80d5f4aa3f3bfc99",
            "6a3fb8eb33ed4e0aa95f61b0d1fb69d0",
            "d128d27c641d4f4091eeab280b468f5b",
            "73526770b787493db6c3972a2bae7dc9",
            "10dd2c0dd71f4df7bfd7b135d06ccae1",
            "e6f5c51971d04ba589538f65ec2d8cbc",
            "1ba9b91187e44a879676f909e60d75b0",
            "6a4e5a70047f47f28f49e7e0044c58ae",
            "5c7634f6315c469d856170fae3d6f001",
            "5a6aad3da9ec4183b5415f4a147adace",
            "e6d9ec5a32af43fbba7cd52afe592123",
            "f326dda9085044d981556a063eeb568d",
            "aedf6c3b7c67442fb2191c38b123bc4c",
            "f92c7285ee1949e8b4a898187ebaf166",
            "c07ddbbb72ca4eaab0abd370d8fda119"
          ]
        },
        "id": "ZEJ0eWCphk_B",
        "outputId": "f3b4203b-8bee-40b8-c829-2cd2f5adcdab"
      },
      "source": [
        "# Get the data\n",
        "dataset, info = tfds.load('imdb_reviews/subwords8k', with_info=True, as_supervised=True)\n",
        "train_dataset, test_dataset = dataset['train'], dataset['test']"
      ],
      "execution_count": 4,
      "outputs": [
        {
          "output_type": "stream",
          "text": [
            "WARNING:absl:TFDS datasets with text encoding are deprecated and will be removed in a future version. Instead, you should use the plain text version and tokenize the text using `tensorflow_text` (See: https://www.tensorflow.org/tutorials/tensorflow_text/intro#tfdata_example)\n"
          ],
          "name": "stderr"
        },
        {
          "output_type": "stream",
          "text": [
            "\u001b[1mDownloading and preparing dataset imdb_reviews/subwords8k/1.0.0 (download: 80.23 MiB, generated: Unknown size, total: 80.23 MiB) to /root/tensorflow_datasets/imdb_reviews/subwords8k/1.0.0...\u001b[0m\n"
          ],
          "name": "stdout"
        },
        {
          "output_type": "display_data",
          "data": {
            "application/vnd.jupyter.widget-view+json": {
              "model_id": "928aad7376cd4ef1867e945c975e5ec2",
              "version_minor": 0,
              "version_major": 2
            },
            "text/plain": [
              "HBox(children=(FloatProgress(value=1.0, bar_style='info', description='Dl Completed...', max=1.0, style=Progre…"
            ]
          },
          "metadata": {
            "tags": []
          }
        },
        {
          "output_type": "display_data",
          "data": {
            "application/vnd.jupyter.widget-view+json": {
              "model_id": "8eaba0ce101c43a5825fff54e4a0410d",
              "version_minor": 0,
              "version_major": 2
            },
            "text/plain": [
              "HBox(children=(FloatProgress(value=1.0, bar_style='info', description='Dl Size...', max=1.0, style=ProgressSty…"
            ]
          },
          "metadata": {
            "tags": []
          }
        },
        {
          "output_type": "stream",
          "text": [
            "\n",
            "\n",
            "\n",
            "\n"
          ],
          "name": "stdout"
        },
        {
          "output_type": "display_data",
          "data": {
            "application/vnd.jupyter.widget-view+json": {
              "model_id": "d35729529a37434cbf103451a398e75b",
              "version_minor": 0,
              "version_major": 2
            },
            "text/plain": [
              "HBox(children=(FloatProgress(value=1.0, bar_style='info', max=1.0), HTML(value='')))"
            ]
          },
          "metadata": {
            "tags": []
          }
        },
        {
          "output_type": "stream",
          "text": [
            "\rShuffling and writing examples to /root/tensorflow_datasets/imdb_reviews/subwords8k/1.0.0.incomplete9HOHDK/imdb_reviews-train.tfrecord\n"
          ],
          "name": "stdout"
        },
        {
          "output_type": "display_data",
          "data": {
            "application/vnd.jupyter.widget-view+json": {
              "model_id": "a27c218f2965401e84d92f71e5b10fdd",
              "version_minor": 0,
              "version_major": 2
            },
            "text/plain": [
              "HBox(children=(FloatProgress(value=0.0, max=25000.0), HTML(value='')))"
            ]
          },
          "metadata": {
            "tags": []
          }
        },
        {
          "output_type": "stream",
          "text": [
            "\r"
          ],
          "name": "stdout"
        },
        {
          "output_type": "display_data",
          "data": {
            "application/vnd.jupyter.widget-view+json": {
              "model_id": "470c7ece1ba34280a2d0d584e2596c05",
              "version_minor": 0,
              "version_major": 2
            },
            "text/plain": [
              "HBox(children=(FloatProgress(value=1.0, bar_style='info', max=1.0), HTML(value='')))"
            ]
          },
          "metadata": {
            "tags": []
          }
        },
        {
          "output_type": "stream",
          "text": [
            "\rShuffling and writing examples to /root/tensorflow_datasets/imdb_reviews/subwords8k/1.0.0.incomplete9HOHDK/imdb_reviews-test.tfrecord\n"
          ],
          "name": "stdout"
        },
        {
          "output_type": "display_data",
          "data": {
            "application/vnd.jupyter.widget-view+json": {
              "model_id": "fb8647d656164638a81b939ef0e67b54",
              "version_minor": 0,
              "version_major": 2
            },
            "text/plain": [
              "HBox(children=(FloatProgress(value=0.0, max=25000.0), HTML(value='')))"
            ]
          },
          "metadata": {
            "tags": []
          }
        },
        {
          "output_type": "stream",
          "text": [
            "\r"
          ],
          "name": "stdout"
        },
        {
          "output_type": "display_data",
          "data": {
            "application/vnd.jupyter.widget-view+json": {
              "model_id": "c43618598f16451f9bb19094d9019257",
              "version_minor": 0,
              "version_major": 2
            },
            "text/plain": [
              "HBox(children=(FloatProgress(value=1.0, bar_style='info', max=1.0), HTML(value='')))"
            ]
          },
          "metadata": {
            "tags": []
          }
        },
        {
          "output_type": "stream",
          "text": [
            "\rShuffling and writing examples to /root/tensorflow_datasets/imdb_reviews/subwords8k/1.0.0.incomplete9HOHDK/imdb_reviews-unsupervised.tfrecord\n"
          ],
          "name": "stdout"
        },
        {
          "output_type": "display_data",
          "data": {
            "application/vnd.jupyter.widget-view+json": {
              "model_id": "6a4e5a70047f47f28f49e7e0044c58ae",
              "version_minor": 0,
              "version_major": 2
            },
            "text/plain": [
              "HBox(children=(FloatProgress(value=0.0, max=50000.0), HTML(value='')))"
            ]
          },
          "metadata": {
            "tags": []
          }
        },
        {
          "output_type": "stream",
          "text": [
            "WARNING:absl:Dataset is using deprecated text encoder API which will be removed soon. Please use the plain_text version of the dataset and migrate to `tensorflow_text`.\n"
          ],
          "name": "stderr"
        },
        {
          "output_type": "stream",
          "text": [
            "\u001b[1mDataset imdb_reviews downloaded and prepared to /root/tensorflow_datasets/imdb_reviews/subwords8k/1.0.0. Subsequent calls will reuse this data.\u001b[0m\n",
            "\r"
          ],
          "name": "stdout"
        }
      ]
    },
    {
      "cell_type": "code",
      "metadata": {
        "id": "onexxAGohlGd"
      },
      "source": [
        "tokenizer = info.features['text'].encoder"
      ],
      "execution_count": 5,
      "outputs": []
    },
    {
      "cell_type": "code",
      "metadata": {
        "id": "TRllKZurhlJy"
      },
      "source": [
        "#To remove some code error\n",
        "BUFFER_SIZE = 10000\n",
        "BATCH_SIZE = 64\n",
        "\n",
        "train_dataset = train_dataset.shuffle(BUFFER_SIZE)\n",
        "train_dataset = train_dataset.padded_batch(BATCH_SIZE, tf.compat.v1.data.get_output_shapes(train_dataset))\n",
        "test_dataset = test_dataset.padded_batch(BATCH_SIZE, tf.compat.v1.data.get_output_shapes(test_dataset))"
      ],
      "execution_count": 6,
      "outputs": []
    },
    {
      "cell_type": "code",
      "metadata": {
        "colab": {
          "base_uri": "https://localhost:8080/"
        },
        "id": "12MKzrNMhvWw",
        "outputId": "5e669868-2fa3-4a14-a715-1427eada1a44"
      },
      "source": [
        "model1 = tf.keras.Sequential([\n",
        "    tf.keras.layers.Embedding(tokenizer.vocab_size, 64),\n",
        "    tf.keras.layers.Bidirectional(tf.keras.layers.LSTM(64)),\n",
        "    tf.keras.layers.Dense(64, activation='relu'),\n",
        "    tf.keras.layers.Dense(1, activation='sigmoid')\n",
        "])\n",
        "\n",
        "model1.compile(loss='binary_crossentropy', optimizer='adam', metrics=['accuracy'])\n",
        "\n",
        "model1.summary()\n",
        "\n",
        "model2 = tf.keras.Sequential([\n",
        "    tf.keras.layers.Embedding(tokenizer.vocab_size, 64),\n",
        "    tf.keras.layers.Bidirectional(tf.keras.layers.LSTM(64, return_sequences=True)),\n",
        "    tf.keras.layers.Bidirectional(tf.keras.layers.LSTM(32)),\n",
        "    tf.keras.layers.Dense(64, activation='relu'),\n",
        "    tf.keras.layers.Dense(1, activation='sigmoid')\n",
        "])\n",
        "\n",
        "model2.compile(loss='binary_crossentropy', optimizer='adam', metrics=['accuracy'])\n",
        "\n",
        "model2.summary()"
      ],
      "execution_count": 7,
      "outputs": [
        {
          "output_type": "stream",
          "text": [
            "Model: \"sequential\"\n",
            "_________________________________________________________________\n",
            "Layer (type)                 Output Shape              Param #   \n",
            "=================================================================\n",
            "embedding (Embedding)        (None, None, 64)          523840    \n",
            "_________________________________________________________________\n",
            "bidirectional (Bidirectional (None, 128)               66048     \n",
            "_________________________________________________________________\n",
            "dense (Dense)                (None, 64)                8256      \n",
            "_________________________________________________________________\n",
            "dense_1 (Dense)              (None, 1)                 65        \n",
            "=================================================================\n",
            "Total params: 598,209\n",
            "Trainable params: 598,209\n",
            "Non-trainable params: 0\n",
            "_________________________________________________________________\n",
            "Model: \"sequential_1\"\n",
            "_________________________________________________________________\n",
            "Layer (type)                 Output Shape              Param #   \n",
            "=================================================================\n",
            "embedding_1 (Embedding)      (None, None, 64)          523840    \n",
            "_________________________________________________________________\n",
            "bidirectional_1 (Bidirection (None, None, 128)         66048     \n",
            "_________________________________________________________________\n",
            "bidirectional_2 (Bidirection (None, 64)                41216     \n",
            "_________________________________________________________________\n",
            "dense_2 (Dense)              (None, 64)                4160      \n",
            "_________________________________________________________________\n",
            "dense_3 (Dense)              (None, 1)                 65        \n",
            "=================================================================\n",
            "Total params: 635,329\n",
            "Trainable params: 635,329\n",
            "Non-trainable params: 0\n",
            "_________________________________________________________________\n"
          ],
          "name": "stdout"
        }
      ]
    },
    {
      "cell_type": "markdown",
      "metadata": {
        "id": "J1DF0o6vg2bB"
      },
      "source": [
        "- The parameter passed in is the number of outputs that I desire from that layer, in this case it's 64.If I wrap that with tf.keras.layers.Bidirectional, it will make my cell state go in both directions. \n",
        "\n",
        "- We have our embedding and our bidirectional containing the LSTM, followed by the two dense layers. If you notice the output from the bidirectional is now a 128, even though we told our LSTM that we wanted 64, the bidirectional doubles this up to a 128. \n",
        "\n",
        "-  You can also stack LSTMs like any other keras layer by using code like this. But when you feed an LSTM into another one, you do have to put the return sequences equal true parameter into the first one. This ensures that the outputs of the LSTM match the desired inputs of the next one."
      ]
    },
    {
      "cell_type": "code",
      "metadata": {
        "colab": {
          "base_uri": "https://localhost:8080/"
        },
        "id": "q_jl3sEkhvaR",
        "outputId": "a86271d3-525d-4243-d33a-3844a5311cdf"
      },
      "source": [
        "NUM_EPOCHS = 10\n",
        "history1 = model1.fit(train_dataset, epochs=NUM_EPOCHS, validation_data=test_dataset)\n",
        "\n",
        "history2 = model2.fit(train_dataset, epochs=NUM_EPOCHS, validation_data=test_dataset)"
      ],
      "execution_count": 8,
      "outputs": [
        {
          "output_type": "stream",
          "text": [
            "Epoch 1/10\n",
            "391/391 [==============================] - 67s 145ms/step - loss: 0.5843 - accuracy: 0.6825 - val_loss: 0.5045 - val_accuracy: 0.7981\n",
            "Epoch 2/10\n",
            "391/391 [==============================] - 57s 144ms/step - loss: 0.3862 - accuracy: 0.8368 - val_loss: 0.5401 - val_accuracy: 0.7227\n",
            "Epoch 3/10\n",
            "391/391 [==============================] - 57s 144ms/step - loss: 0.2942 - accuracy: 0.8842 - val_loss: 0.3796 - val_accuracy: 0.8444\n",
            "Epoch 4/10\n",
            "391/391 [==============================] - 57s 145ms/step - loss: 0.2296 - accuracy: 0.9138 - val_loss: 0.4418 - val_accuracy: 0.8389\n",
            "Epoch 5/10\n",
            "391/391 [==============================] - 57s 144ms/step - loss: 0.3774 - accuracy: 0.8332 - val_loss: 0.5120 - val_accuracy: 0.7651\n",
            "Epoch 6/10\n",
            "391/391 [==============================] - 58s 147ms/step - loss: 0.4228 - accuracy: 0.8058 - val_loss: 0.5228 - val_accuracy: 0.7742\n",
            "Epoch 7/10\n",
            "391/391 [==============================] - 57s 145ms/step - loss: 0.3087 - accuracy: 0.8726 - val_loss: 0.4502 - val_accuracy: 0.8206\n",
            "Epoch 8/10\n",
            "391/391 [==============================] - 57s 144ms/step - loss: 0.3198 - accuracy: 0.8618 - val_loss: 0.5800 - val_accuracy: 0.7328\n",
            "Epoch 9/10\n",
            "391/391 [==============================] - 58s 146ms/step - loss: 0.2036 - accuracy: 0.9236 - val_loss: 0.5345 - val_accuracy: 0.7956\n",
            "Epoch 10/10\n",
            "391/391 [==============================] - 57s 145ms/step - loss: 0.1453 - accuracy: 0.9477 - val_loss: 0.5937 - val_accuracy: 0.8012\n",
            "Epoch 1/10\n",
            "391/391 [==============================] - 109s 266ms/step - loss: 0.6374 - accuracy: 0.6333 - val_loss: 0.6397 - val_accuracy: 0.6187\n",
            "Epoch 2/10\n",
            "391/391 [==============================] - 104s 265ms/step - loss: 0.4829 - accuracy: 0.7784 - val_loss: 0.5118 - val_accuracy: 0.7370\n",
            "Epoch 3/10\n",
            "391/391 [==============================] - 103s 263ms/step - loss: 0.4596 - accuracy: 0.7924 - val_loss: 0.4538 - val_accuracy: 0.7792\n",
            "Epoch 4/10\n",
            "391/391 [==============================] - 102s 260ms/step - loss: 0.3256 - accuracy: 0.8670 - val_loss: 0.3796 - val_accuracy: 0.8222\n",
            "Epoch 5/10\n",
            "391/391 [==============================] - 104s 264ms/step - loss: 0.2499 - accuracy: 0.9031 - val_loss: 0.3501 - val_accuracy: 0.8547\n",
            "Epoch 6/10\n",
            "391/391 [==============================] - 102s 261ms/step - loss: 0.1997 - accuracy: 0.9264 - val_loss: 0.3594 - val_accuracy: 0.8591\n",
            "Epoch 7/10\n",
            "391/391 [==============================] - 103s 263ms/step - loss: 0.1575 - accuracy: 0.9458 - val_loss: 0.3585 - val_accuracy: 0.8593\n",
            "Epoch 8/10\n",
            "391/391 [==============================] - 102s 260ms/step - loss: 0.1229 - accuracy: 0.9612 - val_loss: 0.4095 - val_accuracy: 0.8590\n",
            "Epoch 9/10\n",
            "391/391 [==============================] - 103s 263ms/step - loss: 0.0976 - accuracy: 0.9714 - val_loss: 0.5412 - val_accuracy: 0.8271\n",
            "Epoch 10/10\n",
            "391/391 [==============================] - 103s 261ms/step - loss: 0.0875 - accuracy: 0.9750 - val_loss: 0.4855 - val_accuracy: 0.8560\n"
          ],
          "name": "stdout"
        }
      ]
    },
    {
      "cell_type": "markdown",
      "metadata": {
        "id": "GHmGC9oem-uT"
      },
      "source": [
        "\n",
        "Here's the comparison of accuracies between the one layer LSTM and the two layer one over 10 epochs. There's not much of a difference except the nosedive and the validation accuracy. But notice how the training curve is smoother. I found from training networks that jaggedness can be an indication that your model needs improvement, and the single LSTM that you can see here is not the smoothest. \n",
        "\n",
        "- If you look at loss, over the first 10 epochs, we can see similar results. But look what happens when we increase to 50 epochs training. \n",
        "- Our one layer LSTM, while climbing in accuracy, is also prone to some pretty sharp dips. The final result might be good, but those dips makes me suspicious about the overall accuracy of the model. "
      ]
    },
    {
      "cell_type": "code",
      "metadata": {
        "colab": {
          "base_uri": "https://localhost:8080/",
          "height": 1000
        },
        "id": "X_d-8zoWhvd3",
        "outputId": "1b2d6e24-5c4c-4185-feb7-cf9cbe9aa201"
      },
      "source": [
        "import matplotlib.pyplot as plt\n",
        "\n",
        "\n",
        "def plot_graphs(history, string):\n",
        "  plt.plot(history.history[string])\n",
        "  plt.plot(history.history['val_'+string])\n",
        "  plt.xlabel(\"Epochs\")\n",
        "  plt.ylabel(string)\n",
        "  plt.legend([string, 'val_'+string])\n",
        "  plt.show()\n",
        "\n",
        "plot_graphs(history1, 'accuracy')\n",
        "plot_graphs(history1, 'loss')\n",
        "\n",
        "\n",
        "plot_graphs(history2, 'accuracy')\n",
        "plot_graphs(history2, 'loss')"
      ],
      "execution_count": 9,
      "outputs": [
        {
          "output_type": "display_data",
          "data": {
            "image/png": "[encoded data removed]",
            "text/plain": [
              "<Figure size 432x288 with 1 Axes>"
            ]
          },
          "metadata": {
            "tags": [],
            "needs_background": "light"
          }
        },
        {
          "output_type": "display_data",
          "data": {
            "image/png": "[encoded data removed]",
            "text/plain": [
              "<Figure size 432x288 with 1 Axes>"
            ]
          },
          "metadata": {
            "tags": [],
            "needs_background": "light"
          }
        },
        {
          "output_type": "display_data",
          "data": {
            "image/png": "[encoded data removed]",
            "text/plain": [
              "<Figure size 432x288 with 1 Axes>"
            ]
          },
          "metadata": {
            "tags": [],
            "needs_background": "light"
          }
        },
        {
          "output_type": "display_data",
          "data": {
            "image/png": "[encoded data removed]",
            "text/plain": [
              "<Figure size 432x288 with 1 Axes>"
            ]
          },
          "metadata": {
            "tags": [],
            "needs_background": "light"
          }
        }
      ]
    },
    {
      "cell_type": "markdown",
      "metadata": {
        "id": "3oEoggjondPg"
      },
      "source": [
        "Our two layer one looks much smoother, and as such makes me much more confident in its results. Note also the validation accuracy. Considering it levels out at about 80 percent, it's not bad given that the training set and the test set were both 25,000 reviews. But we're using 8,000 sub-words taken only from the training set. So there would be many tokens in the test sets that would be out of vocabulary. Yet despite that, we are still at about 80 percent accuracy. Our loss results are similar with the two layer having a much smoother curve. The loss is increasing epoch by epoch. So that's worth monitoring to see if it flattens out in later epochs as would be desired. I hope this was a good introduction into how RNNs and LSTMs can help you with text classification. Their inherent sequencing is great for predicting unseen text if you want to generate some"
      ]
    },
    {
      "cell_type": "markdown",
      "metadata": {
        "id": "r7zikk-JnKtk"
      },
      "source": [
        "![image.png](data:image/png;base64,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)\n",
        "\n",
        "\n",
        "\n",
        "![image.png](data:image/png;base64,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)"
      ]
    },
    {
      "cell_type": "code",
      "metadata": {
        "id": "4O7m8dIZhvfr"
      },
      "source": [
        ""
      ],
      "execution_count": null,
      "outputs": []
    }
  ]
}