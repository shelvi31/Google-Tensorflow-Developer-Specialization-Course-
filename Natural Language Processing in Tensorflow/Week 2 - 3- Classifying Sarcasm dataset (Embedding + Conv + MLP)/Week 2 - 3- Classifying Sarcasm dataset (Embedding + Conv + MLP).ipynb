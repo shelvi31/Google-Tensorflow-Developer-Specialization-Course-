{
  "nbformat": 4,
  "nbformat_minor": 0,
  "metadata": {
    "colab": {
      "name": " Week 2 - 3- Classifying Sarcasm dataset (Embedding + Conv + MLP)",
      "provenance": [],
      "collapsed_sections": []
    },
    "kernelspec": {
      "name": "python3",
      "display_name": "Python 3"
    },
    "language_info": {
      "name": "python"
    }
  },
  "cells": [
    {
      "cell_type": "code",
      "metadata": {
        "id": "55KJt1dgtluS"
      },
      "source": [
        "import csv\n",
        "import tensorflow as tf\n",
        "import numpy as np\n",
        "from tensorflow.keras.preprocessing.text import Tokenizer\n",
        "from tensorflow.keras.preprocessing.sequence import pad_sequences"
      ],
      "execution_count": 48,
      "outputs": []
    },
    {
      "cell_type": "code",
      "metadata": {
        "id": "ybDywATduKyE"
      },
      "source": [
        "#Setting up HyperParameters\n",
        "\n",
        "vocab_size = 1000   #was 10k\n",
        "embedding_dim = 32    #was 16\n",
        "max_length = 16       #was 32\n",
        "trunc_type = 'post'\n",
        "padding_type = 'post'\n",
        "oov_tok = '<OOV>'\n",
        "\n",
        "#This data set has about 27,000 records. So let's train on 20,000 and validate on the rest. \n",
        "training_size = 20000"
      ],
      "execution_count": 49,
      "outputs": []
    },
    {
      "cell_type": "code",
      "metadata": {
        "colab": {
          "base_uri": "https://localhost:8080/"
        },
        "id": "Vm06vAEuufX3",
        "outputId": "81f3c13e-9d55-412b-9233-4185edce67ff"
      },
      "source": [
        "#Loading dataset as an iterable\n",
        "\n",
        "from google.colab import drive\n",
        "drive.mount('/content/drive')\n",
        "\n",
        "# I have uploaded the dataset from kaggle to my colab folder \n",
        "#Kaggle dataset link: https://www.kaggle.com/rmisra/news-headlines-dataset-for-sarcasm-detection"
      ],
      "execution_count": 50,
      "outputs": [
        {
          "output_type": "stream",
          "text": [
            "Drive already mounted at /content/drive; to attempt to forcibly remount, call drive.mount(\"/content/drive\", force_remount=True).\n"
          ],
          "name": "stdout"
        }
      ]
    },
    {
      "cell_type": "code",
      "metadata": {
        "id": "Fy0cxSksw9U_"
      },
      "source": [
        "import json\n",
        "datastore = [json.loads(line) for line in open(\"/content/sample_data/Sarcasm_Headlines_Dataset_v2.json\", 'r')]    #need to upload this file everytime with new runtime"
      ],
      "execution_count": 51,
      "outputs": []
    },
    {
      "cell_type": "code",
      "metadata": {
        "colab": {
          "base_uri": "https://localhost:8080/"
        },
        "id": "hXyKwbKNxzM2",
        "outputId": "3ea6c42d-90ac-42ad-a416-68f3814402a9"
      },
      "source": [
        "len(datastore)  #no of records"
      ],
      "execution_count": 52,
      "outputs": [
        {
          "output_type": "execute_result",
          "data": {
            "text/plain": [
              "28619"
            ]
          },
          "metadata": {
            "tags": []
          },
          "execution_count": 52
        }
      ]
    },
    {
      "cell_type": "code",
      "metadata": {
        "colab": {
          "base_uri": "https://localhost:8080/"
        },
        "id": "-PZv8UEMx-1n",
        "outputId": "8117bbb9-a97f-49dd-d518-f96b5efa1bfc"
      },
      "source": [
        "datastore[0:5]"
      ],
      "execution_count": 53,
      "outputs": [
        {
          "output_type": "execute_result",
          "data": {
            "text/plain": [
              "[{'article_link': 'https://www.theonion.com/thirtysomething-scientists-unveil-doomsday-clock-of-hai-1819586205',\n",
              "  'headline': 'thirtysomething scientists unveil doomsday clock of hair loss',\n",
              "  'is_sarcastic': 1},\n",
              " {'article_link': 'https://www.huffingtonpost.com/entry/donna-edwards-inequality_us_57455f7fe4b055bb1170b207',\n",
              "  'headline': 'dem rep. totally nails why congress is falling short on gender, racial equality',\n",
              "  'is_sarcastic': 0},\n",
              " {'article_link': 'https://www.huffingtonpost.com/entry/eat-your-veggies-9-delici_b_8899742.html',\n",
              "  'headline': 'eat your veggies: 9 deliciously different recipes',\n",
              "  'is_sarcastic': 0},\n",
              " {'article_link': 'https://local.theonion.com/inclement-weather-prevents-liar-from-getting-to-work-1819576031',\n",
              "  'headline': 'inclement weather prevents liar from getting to work',\n",
              "  'is_sarcastic': 1},\n",
              " {'article_link': 'https://www.theonion.com/mother-comes-pretty-close-to-using-word-streaming-cor-1819575546',\n",
              "  'headline': \"mother comes pretty close to using word 'streaming' correctly\",\n",
              "  'is_sarcastic': 1}]"
            ]
          },
          "metadata": {
            "tags": []
          },
          "execution_count": 53
        }
      ]
    },
    {
      "cell_type": "code",
      "metadata": {
        "id": "TeIzGKLovbuy"
      },
      "source": [
        "sentences = []\n",
        "labels = []\n",
        "urls = []\n",
        "\n",
        "for item in datastore:\n",
        "  sentences.append(item[\"headline\"])\n",
        "  labels.append(item[\"is_sarcastic\"])\n",
        "  urls.append(item[\"article_link\"])"
      ],
      "execution_count": 54,
      "outputs": []
    },
    {
      "cell_type": "code",
      "metadata": {
        "id": "hzHxgUdUxAEc"
      },
      "source": [
        "#Splitting test and train\n",
        "training_sentences = sentences[0:training_size]\n",
        "testing_sentences = sentences[training_size:]\n",
        "training_labels = labels[0:training_size]\n",
        "testing_labels = labels[training_size:]\n",
        "training_urls = urls[0:training_size]\n",
        "testing_urls = urls[training_size:]"
      ],
      "execution_count": 55,
      "outputs": []
    },
    {
      "cell_type": "code",
      "metadata": {
        "colab": {
          "base_uri": "https://localhost:8080/"
        },
        "id": "ngtrBAmZzfFL",
        "outputId": "66d0ff20-6f55-4150-dea7-a330e06eca88"
      },
      "source": [
        "type(training_urls)"
      ],
      "execution_count": 56,
      "outputs": [
        {
          "output_type": "execute_result",
          "data": {
            "text/plain": [
              "list"
            ]
          },
          "metadata": {
            "tags": []
          },
          "execution_count": 56
        }
      ]
    },
    {
      "cell_type": "code",
      "metadata": {
        "colab": {
          "base_uri": "https://localhost:8080/"
        },
        "id": "i9W54CEnxyJ1",
        "outputId": "76b670a0-0db9-45ae-f3e4-ebc17285d839"
      },
      "source": [
        "#step 1: initiate token object\n",
        "tokenizer = Tokenizer(num_words=vocab_size, oov_token=oov_tok)\n",
        "#step 2: fit tokenizer on the texts in training sentences\n",
        "tokenizer.fit_on_texts(training_sentences)\n",
        "\n",
        "word_index = tokenizer.word_index\n",
        "print(dict(list(word_index.items())[0: 10]))   #way to print n items of dictionary\n",
        "\n",
        "#Step 3: assign words index to sentences \n",
        "training_sequences = tokenizer.texts_to_sequences(training_sentences)\n",
        "#Step 4: pad the generated sequences of sentences \n",
        "training_padded = pad_sequences(training_sequences, maxlen=max_length, padding=padding_type, truncating=trunc_type)\n",
        "\n",
        "testing_sequences = tokenizer.texts_to_sequences(testing_sentences)\n",
        "testing_padded = pad_sequences(testing_sequences, maxlen=max_length, padding=padding_type, truncating=trunc_type)"
      ],
      "execution_count": 57,
      "outputs": [
        {
          "output_type": "stream",
          "text": [
            "{'<OOV>': 1, 'to': 2, 'of': 3, 'the': 4, 'in': 5, 'for': 6, 'a': 7, 'on': 8, 'and': 9, 'with': 10}\n"
          ],
          "name": "stdout"
        }
      ]
    },
    {
      "cell_type": "code",
      "metadata": {
        "id": "ItXjONHeyYss"
      },
      "source": [
        "#Converting from list to numpy array\n",
        "# Need this block to get it to work with TensorFlow 2.x\n",
        "import numpy as np\n",
        "training_padded = np.array(training_padded)\n",
        "training_labels = np.array(training_labels)\n",
        "testing_padded = np.array(testing_padded)\n",
        "testing_labels = np.array(testing_labels)\n",
        "training_urls = np.array(training_urls)\n",
        "testing_urls = np.array(testing_urls)"
      ],
      "execution_count": 58,
      "outputs": []
    },
    {
      "cell_type": "code",
      "metadata": {
        "colab": {
          "base_uri": "https://localhost:8080/"
        },
        "id": "w2w9sK7mzbwK",
        "outputId": "a948883c-f171-442d-9d68-a9110ef9cbcf"
      },
      "source": [
        "model = tf.keras.Sequential([\n",
        "    tf.keras.layers.Embedding(vocab_size, embedding_dim, input_length=max_length),\n",
        "    tf.keras.layers.GlobalAveragePooling1D(),\n",
        "    tf.keras.layers.Dense(24, activation='relu'),\n",
        "    tf.keras.layers.Dense(1, activation='sigmoid')\n",
        "])\n",
        "model.compile(loss='binary_crossentropy',optimizer='adam',metrics=['accuracy'])\n",
        "\n",
        "model.summary()"
      ],
      "execution_count": 59,
      "outputs": [
        {
          "output_type": "stream",
          "text": [
            "Model: \"sequential_1\"\n",
            "_________________________________________________________________\n",
            "Layer (type)                 Output Shape              Param #   \n",
            "=================================================================\n",
            "embedding_1 (Embedding)      (None, 16, 32)            32000     \n",
            "_________________________________________________________________\n",
            "global_average_pooling1d_1 ( (None, 32)                0         \n",
            "_________________________________________________________________\n",
            "dense_2 (Dense)              (None, 24)                792       \n",
            "_________________________________________________________________\n",
            "dense_3 (Dense)              (None, 1)                 25        \n",
            "=================================================================\n",
            "Total params: 32,817\n",
            "Trainable params: 32,817\n",
            "Non-trainable params: 0\n",
            "_________________________________________________________________\n"
          ],
          "name": "stdout"
        }
      ]
    },
    {
      "cell_type": "code",
      "metadata": {
        "colab": {
          "base_uri": "https://localhost:8080/"
        },
        "id": "Qu4ToUL80nNq",
        "outputId": "533418fe-5d38-4250-c429-f8e3104dbb7b"
      },
      "source": [
        "#Training the model\n",
        "num_epochs = 30\n",
        "history = model.fit(training_padded, training_labels, \n",
        "                    epochs=num_epochs, validation_data=(testing_padded, testing_labels), verbose=2)"
      ],
      "execution_count": 60,
      "outputs": [
        {
          "output_type": "stream",
          "text": [
            "Epoch 1/30\n",
            "625/625 - 2s - loss: 0.5086 - accuracy: 0.7564 - val_loss: 0.3948 - val_accuracy: 0.8200\n",
            "Epoch 2/30\n",
            "625/625 - 1s - loss: 0.3819 - accuracy: 0.8243 - val_loss: 0.3874 - val_accuracy: 0.8180\n",
            "Epoch 3/30\n",
            "625/625 - 1s - loss: 0.3716 - accuracy: 0.8306 - val_loss: 0.3889 - val_accuracy: 0.8210\n",
            "Epoch 4/30\n",
            "625/625 - 1s - loss: 0.3655 - accuracy: 0.8332 - val_loss: 0.3892 - val_accuracy: 0.8226\n",
            "Epoch 5/30\n",
            "625/625 - 1s - loss: 0.3635 - accuracy: 0.8330 - val_loss: 0.3899 - val_accuracy: 0.8200\n",
            "Epoch 6/30\n",
            "625/625 - 1s - loss: 0.3613 - accuracy: 0.8347 - val_loss: 0.3915 - val_accuracy: 0.8205\n",
            "Epoch 7/30\n",
            "625/625 - 1s - loss: 0.3593 - accuracy: 0.8338 - val_loss: 0.3884 - val_accuracy: 0.8205\n",
            "Epoch 8/30\n",
            "625/625 - 1s - loss: 0.3559 - accuracy: 0.8354 - val_loss: 0.3871 - val_accuracy: 0.8226\n",
            "Epoch 9/30\n",
            "625/625 - 1s - loss: 0.3520 - accuracy: 0.8396 - val_loss: 0.3808 - val_accuracy: 0.8245\n",
            "Epoch 10/30\n",
            "625/625 - 1s - loss: 0.3465 - accuracy: 0.8450 - val_loss: 0.3807 - val_accuracy: 0.8234\n",
            "Epoch 11/30\n",
            "625/625 - 1s - loss: 0.3410 - accuracy: 0.8469 - val_loss: 0.3784 - val_accuracy: 0.8268\n",
            "Epoch 12/30\n",
            "625/625 - 1s - loss: 0.3376 - accuracy: 0.8476 - val_loss: 0.3743 - val_accuracy: 0.8298\n",
            "Epoch 13/30\n",
            "625/625 - 1s - loss: 0.3330 - accuracy: 0.8511 - val_loss: 0.3760 - val_accuracy: 0.8262\n",
            "Epoch 14/30\n",
            "625/625 - 1s - loss: 0.3297 - accuracy: 0.8536 - val_loss: 0.3765 - val_accuracy: 0.8294\n",
            "Epoch 15/30\n",
            "625/625 - 1s - loss: 0.3268 - accuracy: 0.8534 - val_loss: 0.3778 - val_accuracy: 0.8265\n",
            "Epoch 16/30\n",
            "625/625 - 1s - loss: 0.3242 - accuracy: 0.8547 - val_loss: 0.3788 - val_accuracy: 0.8289\n",
            "Epoch 17/30\n",
            "625/625 - 1s - loss: 0.3216 - accuracy: 0.8572 - val_loss: 0.3804 - val_accuracy: 0.8275\n",
            "Epoch 18/30\n",
            "625/625 - 1s - loss: 0.3189 - accuracy: 0.8587 - val_loss: 0.3813 - val_accuracy: 0.8291\n",
            "Epoch 19/30\n",
            "625/625 - 1s - loss: 0.3177 - accuracy: 0.8593 - val_loss: 0.3830 - val_accuracy: 0.8289\n",
            "Epoch 20/30\n",
            "625/625 - 1s - loss: 0.3158 - accuracy: 0.8593 - val_loss: 0.3863 - val_accuracy: 0.8278\n",
            "Epoch 21/30\n",
            "625/625 - 1s - loss: 0.3132 - accuracy: 0.8598 - val_loss: 0.3873 - val_accuracy: 0.8265\n",
            "Epoch 22/30\n",
            "625/625 - 1s - loss: 0.3127 - accuracy: 0.8608 - val_loss: 0.3891 - val_accuracy: 0.8256\n",
            "Epoch 23/30\n",
            "625/625 - 1s - loss: 0.3109 - accuracy: 0.8614 - val_loss: 0.3911 - val_accuracy: 0.8238\n",
            "Epoch 24/30\n",
            "625/625 - 1s - loss: 0.3089 - accuracy: 0.8619 - val_loss: 0.3941 - val_accuracy: 0.8258\n",
            "Epoch 25/30\n",
            "625/625 - 1s - loss: 0.3079 - accuracy: 0.8626 - val_loss: 0.3962 - val_accuracy: 0.8257\n",
            "Epoch 26/30\n",
            "625/625 - 1s - loss: 0.3073 - accuracy: 0.8624 - val_loss: 0.3954 - val_accuracy: 0.8235\n",
            "Epoch 27/30\n",
            "625/625 - 1s - loss: 0.3053 - accuracy: 0.8632 - val_loss: 0.3993 - val_accuracy: 0.8231\n",
            "Epoch 28/30\n",
            "625/625 - 1s - loss: 0.3028 - accuracy: 0.8643 - val_loss: 0.3993 - val_accuracy: 0.8231\n",
            "Epoch 29/30\n",
            "625/625 - 1s - loss: 0.3023 - accuracy: 0.8654 - val_loss: 0.4019 - val_accuracy: 0.8226\n",
            "Epoch 30/30\n",
            "625/625 - 1s - loss: 0.2996 - accuracy: 0.8652 - val_loss: 0.4039 - val_accuracy: 0.8225\n"
          ],
          "name": "stdout"
        }
      ]
    },
    {
      "cell_type": "code",
      "metadata": {
        "colab": {
          "base_uri": "https://localhost:8080/",
          "height": 541
        },
        "id": "z9q15hJ7008D",
        "outputId": "de4115a3-1a5b-414d-ed61-b48b3c3102fe"
      },
      "source": [
        "#Plotting our results\n",
        "import matplotlib.pyplot as plt\n",
        "\n",
        "#Accuracy \n",
        "plt.plot(history.history[\"accuracy\"])\n",
        "plt.plot(history.history[\"val_accuracy\"])\n",
        "  \n",
        "plt.xlabel(\"Epochs\")\n",
        "plt.ylabel(\"accuracy\")\n",
        "plt.legend([\"accuracy\", \"val_accuracy\"])\n",
        "plt.show()\n",
        "\n",
        "#Loss\n",
        "plt.plot(history.history[\"loss\"])\n",
        "plt.plot(history.history[\"val_loss\"])\n",
        "  \n",
        "plt.xlabel(\"Epochs\")\n",
        "plt.ylabel(\"loss\")\n",
        "plt.legend([\"loss\", \"val_loss\"])\n",
        "plt.show()"
      ],
      "execution_count": 61,
      "outputs": [
        {
          "output_type": "display_data",
          "data": {
            "image/png": "[encoded data removed]",
            "text/plain": [
              "<Figure size 432x288 with 1 Axes>"
            ]
          },
          "metadata": {
            "tags": [],
            "needs_background": "light"
          }
        },
        {
          "output_type": "display_data",
          "data": {
            "image/png": "[encoded data removed]",
            "text/plain": [
              "<Figure size 432x288 with 1 Axes>"
            ]
          },
          "metadata": {
            "tags": [],
            "needs_background": "light"
          }
        }
      ]
    },
    {
      "cell_type": "markdown",
      "metadata": {
        "id": "mVmNefeNCL5N"
      },
      "source": [
        "Think about loss in this context, as a confidence in the prediction. So while the number of accurate predictions increased over time, what was interesting was that the confidence per prediction effectively decreased. You may find this happening a lot with text data. So it's very important to keep an eye on it. \n",
        "\n",
        "- One way to do this is to explore the differences as you tweak the hyperparameters. So for example, if you consider these changes, a decrease in vocabulary size, and taking shorter sentences, reducing the likelihood of padding, and then rerun, you may see results like this. Here, you can see that the loss has flattened out which looks good, but of course, your accuracy is not as high.\n",
        "\n",
        "- Another tweak. Changing the number of dimensions using the embedding was also tried. Here, we can see that that had very little difference. Putting the hyperparameters as separate variables like this is a useful programming exercise, making it much easier for you to tweak and explore their impact on training."
      ]
    },
    {
      "cell_type": "code",
      "metadata": {
        "colab": {
          "base_uri": "https://localhost:8080/",
          "height": 85
        },
        "id": "gsL8dx6d2BpV",
        "outputId": "38d2de3d-7262-4f9f-f618-f4c2db8948b2"
      },
      "source": [
        "#For tensorflow projector Vissulaization of Sentiments in Vector space \n",
        "\n",
        "#Reverse key value to take out values\n",
        "reverse_word_index = dict([(value, key) for (key, value) in word_index.items()])\n",
        "def decode_sentence(text):\n",
        "    return ' '.join([reverse_word_index.get(i, '?') for i in text])\n",
        "\n",
        "print(decode_sentence(training_padded[0]))\n",
        "print(training_sentences[2])\n",
        "print(labels[2])\n",
        "\n",
        "\n",
        "e = model.layers[0]\n",
        "weights = e.get_weights()[0]\n",
        "print(weights.shape) # shape: (vocab_size, embedding_dim)\n",
        "\n",
        "\n",
        "import io\n",
        "out_v = io.open('sarcasm_vecs.tsv', 'w', encoding='utf-8')\n",
        "out_m = io.open('sarcasm_meta.tsv', 'w', encoding='utf-8')\n",
        "\n",
        "for word_num in range(1, vocab_size):\n",
        "  word = reverse_word_index[word_num]\n",
        "  embeddings = weights[word_num]\n",
        "  out_m.write(word + \"\\n\")\n",
        "  out_v.write('\\t'.join([str(x) for x in embeddings]) + \"\\n\")\n",
        "out_v.close()\n",
        "out_m.close()\n",
        "\n",
        "\n",
        "try:\n",
        "  from google.colab import files\n",
        "except ImportError:\n",
        "  pass\n",
        "else:\n",
        "  files.download('sarcasm_vecs.tsv')\n",
        "  files.download('sarcasm_meta.tsv')"
      ],
      "execution_count": 62,
      "outputs": [
        {
          "output_type": "stream",
          "text": [
            "<OOV> scientists <OOV> <OOV> <OOV> of hair loss ? ? ? ? ? ? ? ?\n",
            "eat your veggies: 9 deliciously different recipes\n",
            "0\n",
            "(1000, 32)\n"
          ],
          "name": "stdout"
        },
        {
          "output_type": "display_data",
          "data": {
            "application/javascript": [
              "\n",
              "    async function download(id, filename, size) {\n",
              "      if (!google.colab.kernel.accessAllowed) {\n",
              "        return;\n",
              "      }\n",
              "      const div = document.createElement('div');\n",
              "      const label = document.createElement('label');\n",
              "      label.textContent = `Downloading \"${filename}\": `;\n",
              "      div.appendChild(label);\n",
              "      const progress = document.createElement('progress');\n",
              "      progress.max = size;\n",
              "      div.appendChild(progress);\n",
              "      document.body.appendChild(div);\n",
              "\n",
              "      const buffers = [];\n",
              "      let downloaded = 0;\n",
              "\n",
              "      const channel = await google.colab.kernel.comms.open(id);\n",
              "      // Send a message to notify the kernel that we're ready.\n",
              "      channel.send({})\n",
              "\n",
              "      for await (const message of channel.messages) {\n",
              "        // Send a message to notify the kernel that we're ready.\n",
              "        channel.send({})\n",
              "        if (message.buffers) {\n",
              "          for (const buffer of message.buffers) {\n",
              "            buffers.push(buffer);\n",
              "            downloaded += buffer.byteLength;\n",
              "            progress.value = downloaded;\n",
              "          }\n",
              "        }\n",
              "      }\n",
              "      const blob = new Blob(buffers, {type: 'application/binary'});\n",
              "      const a = document.createElement('a');\n",
              "      a.href = window.URL.createObjectURL(blob);\n",
              "      a.download = filename;\n",
              "      div.appendChild(a);\n",
              "      a.click();\n",
              "      div.remove();\n",
              "    }\n",
              "  "
            ],
            "text/plain": [
              "<IPython.core.display.Javascript object>"
            ]
          },
          "metadata": {
            "tags": []
          }
        },
        {
          "output_type": "display_data",
          "data": {
            "application/javascript": [
              "download(\"download_cde334a6-d649-4280-856d-a7581de31b03\", \"sarcasm_vecs.tsv\", 371517)"
            ],
            "text/plain": [
              "<IPython.core.display.Javascript object>"
            ]
          },
          "metadata": {
            "tags": []
          }
        },
        {
          "output_type": "display_data",
          "data": {
            "application/javascript": [
              "\n",
              "    async function download(id, filename, size) {\n",
              "      if (!google.colab.kernel.accessAllowed) {\n",
              "        return;\n",
              "      }\n",
              "      const div = document.createElement('div');\n",
              "      const label = document.createElement('label');\n",
              "      label.textContent = `Downloading \"${filename}\": `;\n",
              "      div.appendChild(label);\n",
              "      const progress = document.createElement('progress');\n",
              "      progress.max = size;\n",
              "      div.appendChild(progress);\n",
              "      document.body.appendChild(div);\n",
              "\n",
              "      const buffers = [];\n",
              "      let downloaded = 0;\n",
              "\n",
              "      const channel = await google.colab.kernel.comms.open(id);\n",
              "      // Send a message to notify the kernel that we're ready.\n",
              "      channel.send({})\n",
              "\n",
              "      for await (const message of channel.messages) {\n",
              "        // Send a message to notify the kernel that we're ready.\n",
              "        channel.send({})\n",
              "        if (message.buffers) {\n",
              "          for (const buffer of message.buffers) {\n",
              "            buffers.push(buffer);\n",
              "            downloaded += buffer.byteLength;\n",
              "            progress.value = downloaded;\n",
              "          }\n",
              "        }\n",
              "      }\n",
              "      const blob = new Blob(buffers, {type: 'application/binary'});\n",
              "      const a = document.createElement('a');\n",
              "      a.href = window.URL.createObjectURL(blob);\n",
              "      a.download = filename;\n",
              "      div.appendChild(a);\n",
              "      a.click();\n",
              "      div.remove();\n",
              "    }\n",
              "  "
            ],
            "text/plain": [
              "<IPython.core.display.Javascript object>"
            ]
          },
          "metadata": {
            "tags": []
          }
        },
        {
          "output_type": "display_data",
          "data": {
            "application/javascript": [
              "download(\"download_f7cd23be-0ca3-4d0e-8411-d49aa78a7602\", \"sarcasm_meta.tsv\", 6239)"
            ],
            "text/plain": [
              "<IPython.core.display.Javascript object>"
            ]
          },
          "metadata": {
            "tags": []
          }
        }
      ]
    },
    {
      "cell_type": "code",
      "metadata": {
        "colab": {
          "base_uri": "https://localhost:8080/"
        },
        "id": "0Z7kwoq02RKy",
        "outputId": "138b5c85-3cbf-4b0b-c2e9-b2df83f3e9f0"
      },
      "source": [
        "sentence = [\"granny starting to fear spiders in the garden might be real\", \"game of thrones season finale showing this sunday night\"]\n",
        "sequences = tokenizer.texts_to_sequences(sentence)\n",
        "padded = pad_sequences(sequences, maxlen=max_length, padding=padding_type, truncating=trunc_type)\n",
        "print(model.predict(padded))"
      ],
      "execution_count": 63,
      "outputs": [
        {
          "output_type": "stream",
          "text": [
            "[[0.12409878]\n",
            " [0.5020355 ]]\n"
          ],
          "name": "stdout"
        }
      ]
    }
  ]
}