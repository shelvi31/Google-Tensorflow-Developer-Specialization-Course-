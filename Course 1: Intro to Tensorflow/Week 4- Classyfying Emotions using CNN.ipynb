{
  "nbformat": 4,
  "nbformat_minor": 0,
  "metadata": {
    "colab": {
      "name": "Week 4 - Classifying emotions using CNN",
      "provenance": [],
      "collapsed_sections": []
    },
    "kernelspec": {
      "name": "python3",
      "display_name": "Python 3"
    },
    "language_info": {
      "name": "python"
    },
    "accelerator": "GPU"
  },
  "cells": [
    {
      "cell_type": "code",
      "metadata": {
        "id": "oJvqUFYGdAM0"
      },
      "source": [
        ""
      ],
      "execution_count": null,
      "outputs": []
    },
    {
      "cell_type": "markdown",
      "metadata": {
        "id": "r3pVCHe0dHGd"
      },
      "source": [
        ""
      ]
    },
    {
      "cell_type": "markdown",
      "metadata": {
        "id": "AxFUyoPzdHPp"
      },
      "source": [
        "\n",
        "Below is code with a link to a happy or sad dataset which contains 80 images, 40 happy and 40 sad. Create a convolutional neural network that trains to 100% accuracy on these images, which cancels training upon hitting training accuracy of >.999\n",
        "\n",
        "Hint -- it will work best with 3 convolutional layers."
      ]
    },
    {
      "cell_type": "code",
      "metadata": {
        "colab": {
          "base_uri": "https://localhost:8080/"
        },
        "id": "9h-wWnMRdH8c",
        "outputId": "4932867d-0e6e-41aa-a4d7-f42ed09805e4"
      },
      "source": [
        "import tensorflow as tf\n",
        "import os\n",
        "import zipfile\n",
        "\n",
        "\n",
        "DESIRED_ACCURACY = 0.999\n",
        "\n",
        "!wget --no-check-certificate \\\n",
        "    \"https://storage.googleapis.com/laurencemoroney-blog.appspot.com/happy-or-sad.zip\" \\\n",
        "    -O \"/tmp/happy-or-sad.zip\"\n",
        "\n",
        "zip_ref = zipfile.ZipFile(\"/tmp/happy-or-sad.zip\", 'r')\n",
        "zip_ref.extractall(\"/tmp/h-or-s\")\n",
        "zip_ref.close()\n",
        "\n",
        "class CustomCallbacks(tf.keras.callbacks.Callback):\n",
        "    def on_epoch_end(self, epoch, logs={}):\n",
        "      if(logs.get('acc') is not None and logs.get('acc') >= DESIRED_ACCURACY):\n",
        "        print(\"\\n 99% acc reached\")\n",
        "        self.model.stop_training = True\n",
        "\n",
        "callbacks = CustomCallbacks()"
      ],
      "execution_count": 1,
      "outputs": [
        {
          "output_type": "stream",
          "text": [
            "--2021-07-22 18:26:26--  https://storage.googleapis.com/laurencemoroney-blog.appspot.com/happy-or-sad.zip\n",
            "Resolving storage.googleapis.com (storage.googleapis.com)... 172.217.164.144, 142.251.45.16, 142.250.73.208, ...\n",
            "Connecting to storage.googleapis.com (storage.googleapis.com)|172.217.164.144|:443... connected.\n",
            "HTTP request sent, awaiting response... 200 OK\n",
            "Length: 2670333 (2.5M) [application/zip]\n",
            "Saving to: ‘/tmp/happy-or-sad.zip’\n",
            "\n",
            "/tmp/happy-or-sad.z 100%[===================>]   2.55M  --.-KB/s    in 0.01s   \n",
            "\n",
            "2021-07-22 18:26:26 (190 MB/s) - ‘/tmp/happy-or-sad.zip’ saved [2670333/2670333]\n",
            "\n"
          ],
          "name": "stdout"
        }
      ]
    },
    {
      "cell_type": "code",
      "metadata": {
        "id": "ZLKq3KuKdLiU"
      },
      "source": [
        "# This Code Block should Define and Compile the Model\n",
        "model = tf.keras.models.Sequential([\n",
        "    tf.keras.layers.Conv2D(64, (3,3), activation='relu', input_shape=(150,150,3)),\n",
        "    tf.keras.layers.MaxPooling2D(2,2),\n",
        "    tf.keras.layers.Conv2D(32, (3,3), activation='relu'),\n",
        "    tf.keras.layers.MaxPooling2D(2,2),\n",
        "    tf.keras.layers.Conv2D(32, (2,2), activation='relu'),\n",
        "    tf.keras.layers.MaxPooling2D(2,2),\n",
        "    tf.keras.layers.Flatten(),\n",
        "    tf.keras.layers.Dense(512, activation='relu'),\n",
        "    tf.keras.layers.Dense(128, activation='relu'),\n",
        "    tf.keras.layers.Dense(1, activation='sigmoid')\n",
        "])\n",
        "\n",
        "from tensorflow.keras.optimizers import RMSprop\n",
        "\n",
        "model.compile(\n",
        "    optimizer=RMSprop(),\n",
        "    loss='binary_crossentropy',\n",
        "    metrics=['accuracy']\n",
        ")"
      ],
      "execution_count": 2,
      "outputs": []
    },
    {
      "cell_type": "code",
      "metadata": {
        "colab": {
          "base_uri": "https://localhost:8080/"
        },
        "id": "nfXOrUkldQ3e",
        "outputId": "04b63a22-8a5c-47f0-d5e0-cc0345f4aeed"
      },
      "source": [
        "# This code block should create an instance of an ImageDataGenerator called train_datagen \n",
        "# And a train_generator by calling train_datagen.flow_from_directory\n",
        "\n",
        "from tensorflow.keras.preprocessing.image import ImageDataGenerator\n",
        "\n",
        "train_datagen = ImageDataGenerator(rescale=1/255)\n",
        "\n",
        "train_generator = train_datagen.flow_from_directory(\n",
        "    '/tmp/h-or-s',\n",
        "    target_size=(150, 150),\n",
        "    batch_size=64,\n",
        "    class_mode='binary'\n",
        ")\n",
        "\n",
        "# Expected output: 'Found 80 images belonging to 2 classes'"
      ],
      "execution_count": 3,
      "outputs": [
        {
          "output_type": "stream",
          "text": [
            "Found 80 images belonging to 2 classes.\n"
          ],
          "name": "stdout"
        }
      ]
    },
    {
      "cell_type": "code",
      "metadata": {
        "colab": {
          "base_uri": "https://localhost:8080/"
        },
        "id": "gSmY-YYGdRXW",
        "outputId": "e81c39fa-d72c-44ff-bf76-42c4a575756f"
      },
      "source": [
        "# This code block should call model.fit_generator and train for\n",
        "# a number of epochs. \n",
        "history = model.fit_generator(\n",
        "    train_generator,\n",
        "    epochs=20,\n",
        "    callbacks= [callbacks]\n",
        ")\n",
        "    \n",
        "# Expected output: \"Reached 99.9% accuracy so cancelling training!\"\""
      ],
      "execution_count": 4,
      "outputs": [
        {
          "output_type": "stream",
          "text": [
            "/usr/local/lib/python3.7/dist-packages/tensorflow/python/keras/engine/training.py:1940: UserWarning: `Model.fit_generator` is deprecated and will be removed in a future version. Please use `Model.fit`, which supports generators.\n",
            "  warnings.warn('`Model.fit_generator` is deprecated and '\n"
          ],
          "name": "stderr"
        },
        {
          "output_type": "stream",
          "text": [
            "Epoch 1/20\n",
            "2/2 [==============================] - 33s 274ms/step - loss: 0.8019 - accuracy: 0.5125\n",
            "Epoch 2/20\n",
            "2/2 [==============================] - 0s 138ms/step - loss: 1.3897 - accuracy: 0.5000\n",
            "Epoch 3/20\n",
            "2/2 [==============================] - 0s 18ms/step - loss: 0.5711 - accuracy: 0.7500\n",
            "Epoch 4/20\n",
            "2/2 [==============================] - 0s 18ms/step - loss: 1.2663 - accuracy: 0.4000\n",
            "Epoch 5/20\n",
            "2/2 [==============================] - 0s 137ms/step - loss: 0.5114 - accuracy: 0.8625\n",
            "Epoch 6/20\n",
            "2/2 [==============================] - 0s 18ms/step - loss: 0.4672 - accuracy: 0.8250\n",
            "Epoch 7/20\n",
            "2/2 [==============================] - 0s 136ms/step - loss: 0.5313 - accuracy: 0.8250\n",
            "Epoch 8/20\n",
            "2/2 [==============================] - 0s 19ms/step - loss: 0.3067 - accuracy: 0.9375\n",
            "Epoch 9/20\n",
            "2/2 [==============================] - 0s 134ms/step - loss: 0.1803 - accuracy: 0.9625\n",
            "Epoch 10/20\n",
            "2/2 [==============================] - 0s 17ms/step - loss: 0.1467 - accuracy: 0.9250\n",
            "Epoch 11/20\n",
            "2/2 [==============================] - 0s 19ms/step - loss: 0.7608 - accuracy: 0.6875\n",
            "Epoch 12/20\n",
            "2/2 [==============================] - 0s 19ms/step - loss: 0.4006 - accuracy: 0.7875\n",
            "Epoch 13/20\n",
            "2/2 [==============================] - 0s 138ms/step - loss: 0.1972 - accuracy: 0.9375\n",
            "Epoch 14/20\n",
            "2/2 [==============================] - 0s 19ms/step - loss: 0.1710 - accuracy: 0.9500\n",
            "Epoch 15/20\n",
            "2/2 [==============================] - 0s 131ms/step - loss: 0.2452 - accuracy: 0.8750\n",
            "Epoch 16/20\n",
            "2/2 [==============================] - 0s 20ms/step - loss: 0.1465 - accuracy: 0.9375\n",
            "Epoch 17/20\n",
            "2/2 [==============================] - 0s 24ms/step - loss: 0.1245 - accuracy: 0.9375\n",
            "Epoch 18/20\n",
            "2/2 [==============================] - 0s 138ms/step - loss: 0.1672 - accuracy: 0.9875\n",
            "Epoch 19/20\n",
            "2/2 [==============================] - 0s 142ms/step - loss: 0.0756 - accuracy: 0.9625\n",
            "Epoch 20/20\n",
            "2/2 [==============================] - 0s 145ms/step - loss: 0.0560 - accuracy: 0.9750\n"
          ],
          "name": "stdout"
        }
      ]
    },
    {
      "cell_type": "code",
      "metadata": {
        "id": "r1cGmmTSdTiO"
      },
      "source": [
        ""
      ],
      "execution_count": 4,
      "outputs": []
    }
  ]
}